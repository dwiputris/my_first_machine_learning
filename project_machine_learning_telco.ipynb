{
  "cells": [
    {
      "cell_type": "markdown",
      "metadata": {
        "id": "a1tRE8exgHYl"
      },
      "source": [
        "# Time to Upgrade?\n",
        "\n",
        "A mobile telephone operator, Megaline, is looking to appeal their customers for its more premium plan subscription. \n",
        "\n",
        "The company wishes to build a model that predicts the potential of its existing customers to upgrade to the premium plan.\n",
        "\n",
        "A dataset of their monthly usage of call, internet, and messaging services, as well as the subscription plan is provided. \n",
        "\n",
        "The model should have as high of accuracy level as possible, with minimum level of  0.75.\n",
        "\n",
        "The observed data in the dataset are:\n",
        "    \n",
        "1. сalls — number of call\n",
        "\n",
        "2. minutes — total duration of calls in minute\n",
        "\n",
        "3. messages — number of text message\n",
        "\n",
        "4. mb_used — internet traffic usage in MB\n",
        "\n",
        "5. is_ultra — the current subscription plan (Ultra - 1, Smart - 0)\n",
        "\n",
        "The start of this project is observing the dataset. It will be continued by making 3 models each using different algorithm. In the process of making each model, tuning will be done to find combination of hyperparameters that results in the highest validation metric, that in this case is accuracy score.\n",
        "\n",
        "It will then be closed with sanity check, using other validation metrices than accuracy score."
      ]
    },
    {
      "cell_type": "markdown",
      "metadata": {
        "id": "kXtxwImkgHYt"
      },
      "source": [
        "## Data Observation"
      ]
    },
    {
      "cell_type": "code",
      "execution_count": null,
      "metadata": {
        "id": "7IE8abVRgHYu"
      },
      "outputs": [],
      "source": [
        "# import libraries\n",
        "import pandas as pd, numpy as np\n",
        "import matplotlib.pyplot as plt\n",
        "import seaborn as sns\n",
        "from sklearn.model_selection import train_test_split, GridSearchCV\n",
        "from sklearn.tree import DecisionTreeClassifier\n",
        "from sklearn.ensemble import RandomForestClassifier\n",
        "from sklearn.linear_model import LogisticRegression\n",
        "from sklearn.metrics import classification_report, roc_auc_score\n",
        "import warnings\n",
        "warnings.filterwarnings('ignore')"
      ]
    },
    {
      "cell_type": "code",
      "source": [
        "# Connect to google drive\n",
        "from google.colab import drive\n",
        "drive.mount('/content/gdrive')"
      ],
      "metadata": {
        "colab": {
          "base_uri": "https://localhost:8080/"
        },
        "id": "LS8wf1AxhkaX",
        "outputId": "9f6e6a52-f649-4afd-d39f-71a326772c34"
      },
      "execution_count": null,
      "outputs": [
        {
          "output_type": "stream",
          "name": "stdout",
          "text": [
            "Drive already mounted at /content/gdrive; to attempt to forcibly remount, call drive.mount(\"/content/gdrive\", force_remount=True).\n"
          ]
        }
      ]
    },
    {
      "cell_type": "code",
      "execution_count": null,
      "metadata": {
        "colab": {
          "base_uri": "https://localhost:8080/",
          "height": 206
        },
        "id": "NBOTe5qogHYw",
        "outputId": "b0d1021c-b273-4487-b7dc-7f79b8b46b0c"
      },
      "outputs": [
        {
          "output_type": "execute_result",
          "data": {
            "text/plain": [
              "   calls  minutes  messages   mb_used  is_ultra\n",
              "0   40.0   311.90      83.0  19915.42         0\n",
              "1   85.0   516.75      56.0  22696.96         0\n",
              "2   77.0   467.66      86.0  21060.45         0\n",
              "3  106.0   745.53      81.0   8437.39         1\n",
              "4   66.0   418.74       1.0  14502.75         0"
            ],
            "text/html": [
              "\n",
              "  <div id=\"df-efdc0ecf-fe61-45bf-895a-3b8a5f616e36\">\n",
              "    <div class=\"colab-df-container\">\n",
              "      <div>\n",
              "<style scoped>\n",
              "    .dataframe tbody tr th:only-of-type {\n",
              "        vertical-align: middle;\n",
              "    }\n",
              "\n",
              "    .dataframe tbody tr th {\n",
              "        vertical-align: top;\n",
              "    }\n",
              "\n",
              "    .dataframe thead th {\n",
              "        text-align: right;\n",
              "    }\n",
              "</style>\n",
              "<table border=\"1\" class=\"dataframe\">\n",
              "  <thead>\n",
              "    <tr style=\"text-align: right;\">\n",
              "      <th></th>\n",
              "      <th>calls</th>\n",
              "      <th>minutes</th>\n",
              "      <th>messages</th>\n",
              "      <th>mb_used</th>\n",
              "      <th>is_ultra</th>\n",
              "    </tr>\n",
              "  </thead>\n",
              "  <tbody>\n",
              "    <tr>\n",
              "      <th>0</th>\n",
              "      <td>40.0</td>\n",
              "      <td>311.90</td>\n",
              "      <td>83.0</td>\n",
              "      <td>19915.42</td>\n",
              "      <td>0</td>\n",
              "    </tr>\n",
              "    <tr>\n",
              "      <th>1</th>\n",
              "      <td>85.0</td>\n",
              "      <td>516.75</td>\n",
              "      <td>56.0</td>\n",
              "      <td>22696.96</td>\n",
              "      <td>0</td>\n",
              "    </tr>\n",
              "    <tr>\n",
              "      <th>2</th>\n",
              "      <td>77.0</td>\n",
              "      <td>467.66</td>\n",
              "      <td>86.0</td>\n",
              "      <td>21060.45</td>\n",
              "      <td>0</td>\n",
              "    </tr>\n",
              "    <tr>\n",
              "      <th>3</th>\n",
              "      <td>106.0</td>\n",
              "      <td>745.53</td>\n",
              "      <td>81.0</td>\n",
              "      <td>8437.39</td>\n",
              "      <td>1</td>\n",
              "    </tr>\n",
              "    <tr>\n",
              "      <th>4</th>\n",
              "      <td>66.0</td>\n",
              "      <td>418.74</td>\n",
              "      <td>1.0</td>\n",
              "      <td>14502.75</td>\n",
              "      <td>0</td>\n",
              "    </tr>\n",
              "  </tbody>\n",
              "</table>\n",
              "</div>\n",
              "      <button class=\"colab-df-convert\" onclick=\"convertToInteractive('df-efdc0ecf-fe61-45bf-895a-3b8a5f616e36')\"\n",
              "              title=\"Convert this dataframe to an interactive table.\"\n",
              "              style=\"display:none;\">\n",
              "        \n",
              "  <svg xmlns=\"http://www.w3.org/2000/svg\" height=\"24px\"viewBox=\"0 0 24 24\"\n",
              "       width=\"24px\">\n",
              "    <path d=\"M0 0h24v24H0V0z\" fill=\"none\"/>\n",
              "    <path d=\"M18.56 5.44l.94 2.06.94-2.06 2.06-.94-2.06-.94-.94-2.06-.94 2.06-2.06.94zm-11 1L8.5 8.5l.94-2.06 2.06-.94-2.06-.94L8.5 2.5l-.94 2.06-2.06.94zm10 10l.94 2.06.94-2.06 2.06-.94-2.06-.94-.94-2.06-.94 2.06-2.06.94z\"/><path d=\"M17.41 7.96l-1.37-1.37c-.4-.4-.92-.59-1.43-.59-.52 0-1.04.2-1.43.59L10.3 9.45l-7.72 7.72c-.78.78-.78 2.05 0 2.83L4 21.41c.39.39.9.59 1.41.59.51 0 1.02-.2 1.41-.59l7.78-7.78 2.81-2.81c.8-.78.8-2.07 0-2.86zM5.41 20L4 18.59l7.72-7.72 1.47 1.35L5.41 20z\"/>\n",
              "  </svg>\n",
              "      </button>\n",
              "      \n",
              "  <style>\n",
              "    .colab-df-container {\n",
              "      display:flex;\n",
              "      flex-wrap:wrap;\n",
              "      gap: 12px;\n",
              "    }\n",
              "\n",
              "    .colab-df-convert {\n",
              "      background-color: #E8F0FE;\n",
              "      border: none;\n",
              "      border-radius: 50%;\n",
              "      cursor: pointer;\n",
              "      display: none;\n",
              "      fill: #1967D2;\n",
              "      height: 32px;\n",
              "      padding: 0 0 0 0;\n",
              "      width: 32px;\n",
              "    }\n",
              "\n",
              "    .colab-df-convert:hover {\n",
              "      background-color: #E2EBFA;\n",
              "      box-shadow: 0px 1px 2px rgba(60, 64, 67, 0.3), 0px 1px 3px 1px rgba(60, 64, 67, 0.15);\n",
              "      fill: #174EA6;\n",
              "    }\n",
              "\n",
              "    [theme=dark] .colab-df-convert {\n",
              "      background-color: #3B4455;\n",
              "      fill: #D2E3FC;\n",
              "    }\n",
              "\n",
              "    [theme=dark] .colab-df-convert:hover {\n",
              "      background-color: #434B5C;\n",
              "      box-shadow: 0px 1px 3px 1px rgba(0, 0, 0, 0.15);\n",
              "      filter: drop-shadow(0px 1px 2px rgba(0, 0, 0, 0.3));\n",
              "      fill: #FFFFFF;\n",
              "    }\n",
              "  </style>\n",
              "\n",
              "      <script>\n",
              "        const buttonEl =\n",
              "          document.querySelector('#df-efdc0ecf-fe61-45bf-895a-3b8a5f616e36 button.colab-df-convert');\n",
              "        buttonEl.style.display =\n",
              "          google.colab.kernel.accessAllowed ? 'block' : 'none';\n",
              "\n",
              "        async function convertToInteractive(key) {\n",
              "          const element = document.querySelector('#df-efdc0ecf-fe61-45bf-895a-3b8a5f616e36');\n",
              "          const dataTable =\n",
              "            await google.colab.kernel.invokeFunction('convertToInteractive',\n",
              "                                                     [key], {});\n",
              "          if (!dataTable) return;\n",
              "\n",
              "          const docLinkHtml = 'Like what you see? Visit the ' +\n",
              "            '<a target=\"_blank\" href=https://colab.research.google.com/notebooks/data_table.ipynb>data table notebook</a>'\n",
              "            + ' to learn more about interactive tables.';\n",
              "          element.innerHTML = '';\n",
              "          dataTable['output_type'] = 'display_data';\n",
              "          await google.colab.output.renderOutput(dataTable, element);\n",
              "          const docLink = document.createElement('div');\n",
              "          docLink.innerHTML = docLinkHtml;\n",
              "          element.appendChild(docLink);\n",
              "        }\n",
              "      </script>\n",
              "    </div>\n",
              "  </div>\n",
              "  "
            ]
          },
          "metadata": {},
          "execution_count": 14
        }
      ],
      "source": [
        "# load dataset and samples of observed data\n",
        "df = pd.read_csv('/content/gdrive/MyDrive/data_projects/users_behavior.csv')\n",
        "df.head()"
      ]
    },
    {
      "cell_type": "code",
      "execution_count": null,
      "metadata": {
        "colab": {
          "base_uri": "https://localhost:8080/"
        },
        "id": "3cPNMMK5gHY1",
        "outputId": "861814ac-c16f-40a7-c56f-267a1cbbb021"
      },
      "outputs": [
        {
          "output_type": "stream",
          "name": "stdout",
          "text": [
            "<class 'pandas.core.frame.DataFrame'>\n",
            "RangeIndex: 3214 entries, 0 to 3213\n",
            "Data columns (total 5 columns):\n",
            " #   Column    Non-Null Count  Dtype  \n",
            "---  ------    --------------  -----  \n",
            " 0   calls     3214 non-null   float64\n",
            " 1   minutes   3214 non-null   float64\n",
            " 2   messages  3214 non-null   float64\n",
            " 3   mb_used   3214 non-null   float64\n",
            " 4   is_ultra  3214 non-null   int64  \n",
            "dtypes: float64(4), int64(1)\n",
            "memory usage: 125.7 KB\n"
          ]
        }
      ],
      "source": [
        "# load general info\n",
        "df.info()"
      ]
    },
    {
      "cell_type": "code",
      "execution_count": null,
      "metadata": {
        "colab": {
          "base_uri": "https://localhost:8080/",
          "height": 300
        },
        "id": "Zc7sViLJgHY2",
        "outputId": "18ff938d-b9c0-4f9c-f054-529d2f3d333c"
      },
      "outputs": [
        {
          "output_type": "execute_result",
          "data": {
            "text/plain": [
              "             calls      minutes     messages       mb_used     is_ultra\n",
              "count  3214.000000  3214.000000  3214.000000   3214.000000  3214.000000\n",
              "mean     63.038892   438.208787    38.281269  17207.673836     0.306472\n",
              "std      33.236368   234.569872    36.148326   7570.968246     0.461100\n",
              "min       0.000000     0.000000     0.000000      0.000000     0.000000\n",
              "25%      40.000000   274.575000     9.000000  12491.902500     0.000000\n",
              "50%      62.000000   430.600000    30.000000  16943.235000     0.000000\n",
              "75%      82.000000   571.927500    57.000000  21424.700000     1.000000\n",
              "max     244.000000  1632.060000   224.000000  49745.730000     1.000000"
            ],
            "text/html": [
              "\n",
              "  <div id=\"df-d6754580-7e5f-4b92-9665-c28c5fa1c695\">\n",
              "    <div class=\"colab-df-container\">\n",
              "      <div>\n",
              "<style scoped>\n",
              "    .dataframe tbody tr th:only-of-type {\n",
              "        vertical-align: middle;\n",
              "    }\n",
              "\n",
              "    .dataframe tbody tr th {\n",
              "        vertical-align: top;\n",
              "    }\n",
              "\n",
              "    .dataframe thead th {\n",
              "        text-align: right;\n",
              "    }\n",
              "</style>\n",
              "<table border=\"1\" class=\"dataframe\">\n",
              "  <thead>\n",
              "    <tr style=\"text-align: right;\">\n",
              "      <th></th>\n",
              "      <th>calls</th>\n",
              "      <th>minutes</th>\n",
              "      <th>messages</th>\n",
              "      <th>mb_used</th>\n",
              "      <th>is_ultra</th>\n",
              "    </tr>\n",
              "  </thead>\n",
              "  <tbody>\n",
              "    <tr>\n",
              "      <th>count</th>\n",
              "      <td>3214.000000</td>\n",
              "      <td>3214.000000</td>\n",
              "      <td>3214.000000</td>\n",
              "      <td>3214.000000</td>\n",
              "      <td>3214.000000</td>\n",
              "    </tr>\n",
              "    <tr>\n",
              "      <th>mean</th>\n",
              "      <td>63.038892</td>\n",
              "      <td>438.208787</td>\n",
              "      <td>38.281269</td>\n",
              "      <td>17207.673836</td>\n",
              "      <td>0.306472</td>\n",
              "    </tr>\n",
              "    <tr>\n",
              "      <th>std</th>\n",
              "      <td>33.236368</td>\n",
              "      <td>234.569872</td>\n",
              "      <td>36.148326</td>\n",
              "      <td>7570.968246</td>\n",
              "      <td>0.461100</td>\n",
              "    </tr>\n",
              "    <tr>\n",
              "      <th>min</th>\n",
              "      <td>0.000000</td>\n",
              "      <td>0.000000</td>\n",
              "      <td>0.000000</td>\n",
              "      <td>0.000000</td>\n",
              "      <td>0.000000</td>\n",
              "    </tr>\n",
              "    <tr>\n",
              "      <th>25%</th>\n",
              "      <td>40.000000</td>\n",
              "      <td>274.575000</td>\n",
              "      <td>9.000000</td>\n",
              "      <td>12491.902500</td>\n",
              "      <td>0.000000</td>\n",
              "    </tr>\n",
              "    <tr>\n",
              "      <th>50%</th>\n",
              "      <td>62.000000</td>\n",
              "      <td>430.600000</td>\n",
              "      <td>30.000000</td>\n",
              "      <td>16943.235000</td>\n",
              "      <td>0.000000</td>\n",
              "    </tr>\n",
              "    <tr>\n",
              "      <th>75%</th>\n",
              "      <td>82.000000</td>\n",
              "      <td>571.927500</td>\n",
              "      <td>57.000000</td>\n",
              "      <td>21424.700000</td>\n",
              "      <td>1.000000</td>\n",
              "    </tr>\n",
              "    <tr>\n",
              "      <th>max</th>\n",
              "      <td>244.000000</td>\n",
              "      <td>1632.060000</td>\n",
              "      <td>224.000000</td>\n",
              "      <td>49745.730000</td>\n",
              "      <td>1.000000</td>\n",
              "    </tr>\n",
              "  </tbody>\n",
              "</table>\n",
              "</div>\n",
              "      <button class=\"colab-df-convert\" onclick=\"convertToInteractive('df-d6754580-7e5f-4b92-9665-c28c5fa1c695')\"\n",
              "              title=\"Convert this dataframe to an interactive table.\"\n",
              "              style=\"display:none;\">\n",
              "        \n",
              "  <svg xmlns=\"http://www.w3.org/2000/svg\" height=\"24px\"viewBox=\"0 0 24 24\"\n",
              "       width=\"24px\">\n",
              "    <path d=\"M0 0h24v24H0V0z\" fill=\"none\"/>\n",
              "    <path d=\"M18.56 5.44l.94 2.06.94-2.06 2.06-.94-2.06-.94-.94-2.06-.94 2.06-2.06.94zm-11 1L8.5 8.5l.94-2.06 2.06-.94-2.06-.94L8.5 2.5l-.94 2.06-2.06.94zm10 10l.94 2.06.94-2.06 2.06-.94-2.06-.94-.94-2.06-.94 2.06-2.06.94z\"/><path d=\"M17.41 7.96l-1.37-1.37c-.4-.4-.92-.59-1.43-.59-.52 0-1.04.2-1.43.59L10.3 9.45l-7.72 7.72c-.78.78-.78 2.05 0 2.83L4 21.41c.39.39.9.59 1.41.59.51 0 1.02-.2 1.41-.59l7.78-7.78 2.81-2.81c.8-.78.8-2.07 0-2.86zM5.41 20L4 18.59l7.72-7.72 1.47 1.35L5.41 20z\"/>\n",
              "  </svg>\n",
              "      </button>\n",
              "      \n",
              "  <style>\n",
              "    .colab-df-container {\n",
              "      display:flex;\n",
              "      flex-wrap:wrap;\n",
              "      gap: 12px;\n",
              "    }\n",
              "\n",
              "    .colab-df-convert {\n",
              "      background-color: #E8F0FE;\n",
              "      border: none;\n",
              "      border-radius: 50%;\n",
              "      cursor: pointer;\n",
              "      display: none;\n",
              "      fill: #1967D2;\n",
              "      height: 32px;\n",
              "      padding: 0 0 0 0;\n",
              "      width: 32px;\n",
              "    }\n",
              "\n",
              "    .colab-df-convert:hover {\n",
              "      background-color: #E2EBFA;\n",
              "      box-shadow: 0px 1px 2px rgba(60, 64, 67, 0.3), 0px 1px 3px 1px rgba(60, 64, 67, 0.15);\n",
              "      fill: #174EA6;\n",
              "    }\n",
              "\n",
              "    [theme=dark] .colab-df-convert {\n",
              "      background-color: #3B4455;\n",
              "      fill: #D2E3FC;\n",
              "    }\n",
              "\n",
              "    [theme=dark] .colab-df-convert:hover {\n",
              "      background-color: #434B5C;\n",
              "      box-shadow: 0px 1px 3px 1px rgba(0, 0, 0, 0.15);\n",
              "      filter: drop-shadow(0px 1px 2px rgba(0, 0, 0, 0.3));\n",
              "      fill: #FFFFFF;\n",
              "    }\n",
              "  </style>\n",
              "\n",
              "      <script>\n",
              "        const buttonEl =\n",
              "          document.querySelector('#df-d6754580-7e5f-4b92-9665-c28c5fa1c695 button.colab-df-convert');\n",
              "        buttonEl.style.display =\n",
              "          google.colab.kernel.accessAllowed ? 'block' : 'none';\n",
              "\n",
              "        async function convertToInteractive(key) {\n",
              "          const element = document.querySelector('#df-d6754580-7e5f-4b92-9665-c28c5fa1c695');\n",
              "          const dataTable =\n",
              "            await google.colab.kernel.invokeFunction('convertToInteractive',\n",
              "                                                     [key], {});\n",
              "          if (!dataTable) return;\n",
              "\n",
              "          const docLinkHtml = 'Like what you see? Visit the ' +\n",
              "            '<a target=\"_blank\" href=https://colab.research.google.com/notebooks/data_table.ipynb>data table notebook</a>'\n",
              "            + ' to learn more about interactive tables.';\n",
              "          element.innerHTML = '';\n",
              "          dataTable['output_type'] = 'display_data';\n",
              "          await google.colab.output.renderOutput(dataTable, element);\n",
              "          const docLink = document.createElement('div');\n",
              "          docLink.innerHTML = docLinkHtml;\n",
              "          element.appendChild(docLink);\n",
              "        }\n",
              "      </script>\n",
              "    </div>\n",
              "  </div>\n",
              "  "
            ]
          },
          "metadata": {},
          "execution_count": 16
        }
      ],
      "source": [
        "# load statistical description\n",
        "df.describe()"
      ]
    },
    {
      "cell_type": "markdown",
      "metadata": {
        "id": "WRkBGTCUgHY4"
      },
      "source": [
        "## Exploratory Data Analysis"
      ]
    },
    {
      "cell_type": "code",
      "execution_count": null,
      "metadata": {
        "scrolled": true,
        "colab": {
          "base_uri": "https://localhost:8080/",
          "height": 517
        },
        "id": "YNkWol-GgHY5",
        "outputId": "a6b191ad-177b-4c0e-e301-84ff951ac4c2"
      },
      "outputs": [
        {
          "output_type": "display_data",
          "data": {
            "text/plain": [
              "<Figure size 864x576 with 4 Axes>"
            ],
            "image/png": "[encoded data removed]"
          },
          "metadata": {
            "needs_background": "light"
          }
        }
      ],
      "source": [
        "# load boxplot\n",
        "columns = ('calls', 'minutes', 'messages', 'mb_used')\n",
        "plt.subplots(figsize = (12, 8))\n",
        "for i, column in enumerate(columns):\n",
        "    sns.boxplot(data=df, x=column, ax = plt.subplot(2, 2, i + 1))\n",
        "    plt.xticks(rotation = 45)"
      ]
    },
    {
      "cell_type": "code",
      "execution_count": null,
      "metadata": {
        "colab": {
          "base_uri": "https://localhost:8080/",
          "height": 298
        },
        "id": "FZ4D20QMgHY6",
        "outputId": "dde38f7b-5cc6-4404-ea57-a6289ab69d9c"
      },
      "outputs": [
        {
          "output_type": "execute_result",
          "data": {
            "text/plain": [
              "<matplotlib.axes._subplots.AxesSubplot at 0x7f7334c0da00>"
            ]
          },
          "metadata": {},
          "execution_count": 18
        },
        {
          "output_type": "display_data",
          "data": {
            "text/plain": [
              "<Figure size 432x288 with 1 Axes>"
            ],
            "image/png": "[encoded data removed]"
          },
          "metadata": {
            "needs_background": "light"
          }
        }
      ],
      "source": [
        "# Univariate anlysis target\n",
        "sns.countplot(df['is_ultra'])"
      ]
    },
    {
      "cell_type": "code",
      "execution_count": null,
      "metadata": {
        "colab": {
          "base_uri": "https://localhost:8080/",
          "height": 297
        },
        "id": "y3OZKMkUgHY8",
        "outputId": "3fd66d68-2b0a-4037-aa4c-34fd3ba9dc2a"
      },
      "outputs": [
        {
          "output_type": "execute_result",
          "data": {
            "text/plain": [
              "<matplotlib.axes._subplots.AxesSubplot at 0x7f73346cda00>"
            ]
          },
          "metadata": {},
          "execution_count": 19
        },
        {
          "output_type": "display_data",
          "data": {
            "text/plain": [
              "<Figure size 1440x288 with 2 Axes>"
            ],
            "image/png": "[encoded data removed]"
          },
          "metadata": {
            "needs_background": "light"
          }
        }
      ],
      "source": [
        "# Univariate analysis minutes.\n",
        "f = plt.figure(figsize=(20,4))\n",
        "f.add_subplot(1,2,1)\n",
        "sns.distplot(df['minutes'])\n",
        "\n",
        "f.add_subplot(1,2,2)\n",
        "sns.boxplot(df['minutes'])"
      ]
    },
    {
      "cell_type": "code",
      "execution_count": null,
      "metadata": {
        "scrolled": true,
        "colab": {
          "base_uri": "https://localhost:8080/",
          "height": 297
        },
        "id": "5VOU9PjNgHY9",
        "outputId": "cb884de3-209d-49f8-cf17-3ec7eb16708a"
      },
      "outputs": [
        {
          "output_type": "execute_result",
          "data": {
            "text/plain": [
              "<matplotlib.axes._subplots.AxesSubplot at 0x7f733259f250>"
            ]
          },
          "metadata": {},
          "execution_count": 20
        },
        {
          "output_type": "display_data",
          "data": {
            "text/plain": [
              "<Figure size 1440x288 with 2 Axes>"
            ],
            "image/png": "[encoded data removed]"
          },
          "metadata": {
            "needs_background": "light"
          }
        }
      ],
      "source": [
        "# Univariate analysis messages.\n",
        "f = plt.figure(figsize=(20,4))\n",
        "\n",
        "f.add_subplot(1,2,1)\n",
        "sns.distplot(df['messages'])\n",
        "\n",
        "f.add_subplot(1,2,2)\n",
        "sns.boxplot(df['messages'])"
      ]
    },
    {
      "cell_type": "code",
      "execution_count": null,
      "metadata": {
        "scrolled": true,
        "colab": {
          "base_uri": "https://localhost:8080/",
          "height": 309
        },
        "id": "JcgxMkG-gHY-",
        "outputId": "9492e196-b0e4-4321-e413-049b9b1e8285"
      },
      "outputs": [
        {
          "output_type": "execute_result",
          "data": {
            "text/plain": [
              "<matplotlib.axes._subplots.AxesSubplot at 0x7f73324a7d00>"
            ]
          },
          "metadata": {},
          "execution_count": 21
        },
        {
          "output_type": "display_data",
          "data": {
            "text/plain": [
              "<Figure size 1440x288 with 2 Axes>"
            ],
            "image/png": "[encoded data removed]"
          },
          "metadata": {
            "needs_background": "light"
          }
        }
      ],
      "source": [
        "# Univariate analysis mb_used.\n",
        "f = plt.figure(figsize=(20,4))\n",
        "\n",
        "f.add_subplot(1,2,1)\n",
        "sns.distplot(df['mb_used'])\n",
        "\n",
        "f.add_subplot(1,2,2)\n",
        "sns.boxplot(df['mb_used'])"
      ]
    },
    {
      "cell_type": "markdown",
      "metadata": {
        "id": "7kt_iBLDgHZA"
      },
      "source": [
        "From data observation and exploratory data analysis, important informations are gained, that then inform whether there is a need to improve or manipulate the dataset.\n",
        "\n",
        "Size of the dataset is 3,214 rows and 5 columns. \n",
        "\n",
        "Features columns are: calls, minutes, messages, and mb_used. \n",
        "They are all float data, as expected. \n",
        "\n",
        "While target column is is_ultra. It is boolean type of 0 and 1.\n",
        "\n",
        "There is no missing values.\n",
        "\n",
        "There is no negative values, as expected.\n",
        "\n",
        "There are many outliers on all 4 features.\n",
        "\n",
        "For minutes, data is centered on around 400 minutes.\n",
        "\n",
        "For messages, data is centered on around 0 message.\n",
        "\n",
        "For mb_used, data is centered on around 17,000 mb.\n",
        "\n",
        "It is known that plan Surf includes maximum 500 minutes of call and 15GB(15,360 mb) of internet data.\n",
        "\n",
        "While dataset is a little imbalance on proportion of the target, with around 70% of the observed data are Surf plan.\n",
        "\n",
        "This means that although majority of users make use of call duration less than the Surf's monthly allotment, internet use is above the plan's allotment.\n",
        "\n",
        "This also means that most of the subsribers bear additional cost for excess of internet data use.\n",
        "\n",
        "Knowing that the dataset has high variance, there might be certain tuning of hyperparameters that needed in order to make the best model out of it. \n",
        "\n",
        "In the next step, the model will be start to built.\n",
        "\n",
        "This is a supervised learning as the target is known, that is to determine if observed data will result in Ultra package or not. And so for that reason, obviously Classifier, instead of Regression, algorithm will be used to build the needed model.\n",
        "\n",
        "Three algorithms will be used to make a model, and then tested to see which one results in the best validation metric given certain hyperparameters:\n",
        "\n",
        "1. Decision Tree Classifier\n",
        "\n",
        "2. Random Forest\n",
        "\n",
        "3. Logistic Regression"
      ]
    },
    {
      "cell_type": "markdown",
      "metadata": {
        "id": "Gu1JJVABgHZC"
      },
      "source": [
        "## Data Splitting"
      ]
    },
    {
      "cell_type": "code",
      "execution_count": null,
      "metadata": {
        "id": "y5_zJgvngHZD"
      },
      "outputs": [],
      "source": [
        "# Divide train-validation-test the dataset\n",
        "df_train, df_val_test = train_test_split(df, test_size = 0.25, random_state =123)\n",
        "df_val, df_test = train_test_split(df_val_test, test_size = 0.4, random_state =123)"
      ]
    },
    {
      "cell_type": "code",
      "execution_count": null,
      "metadata": {
        "scrolled": true,
        "colab": {
          "base_uri": "https://localhost:8080/"
        },
        "id": "6GZqQO-IgHZE",
        "outputId": "870cd757-9c87-4f7a-a375-2696916c2cec"
      },
      "outputs": [
        {
          "output_type": "execute_result",
          "data": {
            "text/plain": [
              "(2410, 5)"
            ]
          },
          "metadata": {},
          "execution_count": 23
        }
      ],
      "source": [
        "# Check the size of train dataset\n",
        "df_train.shape"
      ]
    },
    {
      "cell_type": "code",
      "execution_count": null,
      "metadata": {
        "colab": {
          "base_uri": "https://localhost:8080/"
        },
        "id": "CooEBP_jgHZF",
        "outputId": "ab525f15-7094-483b-abb9-7face5721e7c"
      },
      "outputs": [
        {
          "output_type": "execute_result",
          "data": {
            "text/plain": [
              "(482, 5)"
            ]
          },
          "metadata": {},
          "execution_count": 24
        }
      ],
      "source": [
        "# Check the size of validation dataset\n",
        "df_val.shape"
      ]
    },
    {
      "cell_type": "code",
      "execution_count": null,
      "metadata": {
        "colab": {
          "base_uri": "https://localhost:8080/"
        },
        "id": "9nOiYuhggHZG",
        "outputId": "e4d575b9-4c86-46c5-bdfe-3200c2559abb"
      },
      "outputs": [
        {
          "output_type": "execute_result",
          "data": {
            "text/plain": [
              "(322, 5)"
            ]
          },
          "metadata": {},
          "execution_count": 25
        }
      ],
      "source": [
        "# Check the size of test dataset\n",
        "df_test.shape"
      ]
    },
    {
      "cell_type": "code",
      "execution_count": null,
      "metadata": {
        "id": "BZGb0W4VgHZH"
      },
      "outputs": [],
      "source": [
        "# slice the datasets each for independent and dependent variables\n",
        "x_train = df_train.drop(['is_ultra'], axis=1)\n",
        "y_train = df_train['is_ultra']\n",
        "x_val = df_val.drop(['is_ultra'], axis=1)\n",
        "y_val = df_val['is_ultra']\n",
        "x_test = df_test.drop(['is_ultra'], axis=1)\n",
        "y_test = df_test['is_ultra']"
      ]
    },
    {
      "cell_type": "markdown",
      "metadata": {
        "id": "JxM_3faqgHZI"
      },
      "source": [
        "Data has been split, 75%, 15% and 10% for training, validation and testing, respectively."
      ]
    },
    {
      "cell_type": "markdown",
      "metadata": {
        "id": "cMrTGgGqgHZJ"
      },
      "source": [
        "## Decision Tree Classifier"
      ]
    },
    {
      "cell_type": "markdown",
      "metadata": {
        "id": "cg0KP2L5gHZK"
      },
      "source": [
        "A model using algorithm of decision tree classifier will be built. The best max depth hyperparameter will be found by looping the model from range 1 to 11."
      ]
    },
    {
      "cell_type": "code",
      "execution_count": null,
      "metadata": {
        "colab": {
          "base_uri": "https://localhost:8080/"
        },
        "id": "0yB1B_UcgHZL",
        "outputId": "ea5d7a52-91e3-47b2-a0ed-e28a4db423ec"
      },
      "outputs": [
        {
          "output_type": "stream",
          "name": "stdout",
          "text": [
            "max_depth = 1 : 0.7406639004149378\n",
            "max_depth = 2 : 0.7883817427385892\n",
            "max_depth = 3 : 0.7966804979253111\n",
            "max_depth = 4 : 0.7966804979253111\n",
            "max_depth = 5 : 0.7780082987551867\n",
            "max_depth = 6 : 0.7966804979253111\n",
            "max_depth = 7 : 0.8049792531120332\n",
            "max_depth = 8 : 0.7966804979253111\n",
            "max_depth = 9 : 0.8029045643153527\n",
            "max_depth = 10 : 0.8070539419087137\n",
            "max_depth = 11 : 0.7883817427385892\n"
          ]
        }
      ],
      "source": [
        "# Build model and loop for given max_depth hyperparameter with highest score of accuracy\n",
        "for depth in range(1,12):\n",
        "    D_Tree= DecisionTreeClassifier(random_state=123, max_depth=depth)\n",
        "    D_Tree.fit(x_train, y_train)\n",
        "    score_val = D_Tree.score(x_val, y_val)\n",
        "    print(\"max_depth =\", depth, \": \", end='')\n",
        "    print(score_val)"
      ]
    },
    {
      "cell_type": "markdown",
      "metadata": {
        "id": "SODbyR4hgHZM"
      },
      "source": [
        "From the looping, it appears that, using validation dataset, as max_depth increases the accuracy increases as well, until max depth of 4, and the accuracy decreases. Hence for the final model the hyperparameter will be set at 4."
      ]
    },
    {
      "cell_type": "code",
      "execution_count": null,
      "metadata": {
        "colab": {
          "base_uri": "https://localhost:8080/"
        },
        "id": "_h8LK_kYgHZM",
        "outputId": "2643989a-2447-4409-9799-9ca4a5244eb1"
      },
      "outputs": [
        {
          "output_type": "execute_result",
          "data": {
            "text/plain": [
              "0.7919254658385093"
            ]
          },
          "metadata": {},
          "execution_count": 28
        }
      ],
      "source": [
        "# Build final model with max depth set at 10\n",
        "D_Tree_final= DecisionTreeClassifier(random_state=123, max_depth=4)\n",
        "D_Tree_final.fit(x_train, y_train)\n",
        "score_test = D_Tree_final.score(x_test, y_test)\n",
        "score_test"
      ]
    },
    {
      "cell_type": "code",
      "execution_count": null,
      "metadata": {
        "colab": {
          "base_uri": "https://localhost:8080/"
        },
        "id": "18ykBB-ZgHZN",
        "outputId": "b8a5dbae-fcd5-4534-9375-959de14069c2"
      },
      "outputs": [
        {
          "output_type": "execute_result",
          "data": {
            "text/plain": [
              "0.7987551867219918"
            ]
          },
          "metadata": {},
          "execution_count": 29
        }
      ],
      "source": [
        "# check the model's score of accuracy if dataset used is train dataset\n",
        "D_Tree_final.score(x_train, y_train)"
      ]
    },
    {
      "cell_type": "markdown",
      "metadata": {
        "id": "k-fYLUNAgHZP"
      },
      "source": [
        "### Interim Conclusion\n",
        "\n",
        "Using Decision Tree Classifier, with max_depth set at optimal of 4, the score of accuracy, using test dataset, is 0.79. This is already above the required score of 0.75.\n",
        "\n",
        "The model is also used back to predict the train dataset. The score of accuracy for each dataset looks like this:\n",
        "\n",
        "1. Train dataset: 0.798\n",
        "\n",
        "2. Validation dataset: 0.796\n",
        "\n",
        "3. Test dataset: 0.791\n",
        "\n",
        "It seems that the model is not overfitting nor underfitting because the score differences are very slim.\n",
        "\n",
        "In the next step, Random Forest algorithm will be used to see if it produces even higher accuracy."
      ]
    },
    {
      "cell_type": "markdown",
      "metadata": {
        "id": "LhvOdQNigHZR"
      },
      "source": [
        "## Random Forest"
      ]
    },
    {
      "cell_type": "markdown",
      "metadata": {
        "id": "BOX71zZNgHZR"
      },
      "source": [
        "In this step Random Forest Classifier will be used as the algorithm to build the model.\n",
        "\n",
        "Given that in Decision Tree model, the max_depth of 4 performs well enough, the same depth will be set for the Random Forest.\n",
        "\n",
        "The best estimators will then be looked for."
      ]
    },
    {
      "cell_type": "code",
      "execution_count": null,
      "metadata": {
        "colab": {
          "base_uri": "https://localhost:8080/"
        },
        "id": "itgqt3p0gHZS",
        "outputId": "eb3b2f51-72b3-4f11-a0b8-808f103df5b7"
      },
      "outputs": [
        {
          "output_type": "stream",
          "name": "stdout",
          "text": [
            "n_estimators = 1 : 0.7966804979253111\n",
            "n_estimators = 2 : 0.7759336099585062\n",
            "n_estimators = 3 : 0.7883817427385892\n",
            "n_estimators = 4 : 0.7697095435684648\n",
            "n_estimators = 5 : 0.7780082987551867\n",
            "n_estimators = 6 : 0.7883817427385892\n",
            "n_estimators = 7 : 0.7925311203319502\n",
            "n_estimators = 8 : 0.7904564315352697\n",
            "n_estimators = 9 : 0.7904564315352697\n",
            "n_estimators = 10 : 0.8049792531120332\n",
            "n_estimators = 11 : 0.8070539419087137\n",
            "n_estimators = 12 : 0.8049792531120332\n",
            "n_estimators = 13 : 0.8070539419087137\n",
            "n_estimators = 14 : 0.8112033195020747\n",
            "n_estimators = 15 : 0.8112033195020747\n",
            "n_estimators = 16 : 0.8153526970954357\n",
            "n_estimators = 17 : 0.8112033195020747\n",
            "n_estimators = 18 : 0.8112033195020747\n",
            "n_estimators = 19 : 0.8091286307053942\n",
            "n_estimators = 20 : 0.8112033195020747\n",
            "n_estimators = 21 : 0.8091286307053942\n",
            "n_estimators = 22 : 0.8091286307053942\n",
            "n_estimators = 23 : 0.8091286307053942\n",
            "n_estimators = 24 : 0.8091286307053942\n",
            "n_estimators = 25 : 0.8091286307053942\n",
            "n_estimators = 26 : 0.8091286307053942\n",
            "n_estimators = 27 : 0.8112033195020747\n",
            "n_estimators = 28 : 0.8112033195020747\n",
            "n_estimators = 29 : 0.8112033195020747\n",
            "n_estimators = 30 : 0.8112033195020747\n",
            "n_estimators = 31 : 0.8091286307053942\n",
            "n_estimators = 32 : 0.8091286307053942\n",
            "n_estimators = 33 : 0.8112033195020747\n",
            "n_estimators = 34 : 0.8112033195020747\n",
            "n_estimators = 35 : 0.8091286307053942\n",
            "n_estimators = 36 : 0.8091286307053942\n",
            "n_estimators = 37 : 0.8091286307053942\n",
            "n_estimators = 38 : 0.8091286307053942\n",
            "n_estimators = 39 : 0.8091286307053942\n",
            "n_estimators = 40 : 0.8091286307053942\n"
          ]
        }
      ],
      "source": [
        "# train model and look for optimal n_estimators hyperparameter\n",
        "best_score = 0\n",
        "best_est = 0\n",
        "for est in range(1, 41):\n",
        "    rfc = RandomForestClassifier(random_state=123, n_estimators=est, max_depth=4)\n",
        "    rfc.fit(x_train, y_train)\n",
        "    score_val_rfc = rfc.score(x_val, y_val)\n",
        "    print(\"n_estimators =\", est, \": \", end='')\n",
        "    print(score_val_rfc)"
      ]
    },
    {
      "cell_type": "markdown",
      "metadata": {
        "id": "xHftM0qbgHZV"
      },
      "source": [
        "It appears that n_estimators of 16 is good already. Going for more estimators does not actually produce better scores. \n",
        "\n",
        "Hence for the final model using Random Forest, hyperparameters will be set as below:\n",
        "\n",
        "n_estimator= 16\n",
        "\n",
        "max_depth= 4"
      ]
    },
    {
      "cell_type": "code",
      "execution_count": null,
      "metadata": {
        "colab": {
          "base_uri": "https://localhost:8080/"
        },
        "id": "zh-lqHTygHZV",
        "outputId": "ab203843-1151-452b-fa5a-52ee8512aad9"
      },
      "outputs": [
        {
          "output_type": "execute_result",
          "data": {
            "text/plain": [
              "0.8153526970954357"
            ]
          },
          "metadata": {},
          "execution_count": 31
        }
      ],
      "source": [
        "# build best model, with max_depth set at 4, and n_estimators set at optimal of 16\n",
        "rfc_final = RandomForestClassifier(random_state=123, n_estimators=16, max_depth=4)\n",
        "rfc_final.fit(x_train,y_train)\n",
        "rfc_final.score(x_val, y_val)"
      ]
    },
    {
      "cell_type": "code",
      "execution_count": null,
      "metadata": {
        "colab": {
          "base_uri": "https://localhost:8080/"
        },
        "id": "GN-NsgvigHZW",
        "outputId": "6c7d86f2-5ff4-40b9-e162-688bd6c33180"
      },
      "outputs": [
        {
          "output_type": "execute_result",
          "data": {
            "text/plain": [
              "0.8012422360248447"
            ]
          },
          "metadata": {},
          "execution_count": 32
        }
      ],
      "source": [
        "# check the model's score of accuracy if dataset used is test dataset\n",
        "rfc_final.score(x_test, y_test)"
      ]
    },
    {
      "cell_type": "code",
      "execution_count": null,
      "metadata": {
        "colab": {
          "base_uri": "https://localhost:8080/"
        },
        "id": "yEer-3epgHZX",
        "outputId": "8a5af30d-4466-410e-8ddf-c181b6bacad1"
      },
      "outputs": [
        {
          "output_type": "execute_result",
          "data": {
            "text/plain": [
              "0.8053941908713693"
            ]
          },
          "metadata": {},
          "execution_count": 33
        }
      ],
      "source": [
        "# check the model's score of accuracy if dataset used is train dataset\n",
        "rfc_final.score(x_train, y_train)"
      ]
    },
    {
      "cell_type": "markdown",
      "metadata": {
        "id": "lEdv1mNygHZY"
      },
      "source": [
        "### Interim Conclusion\n",
        "\n",
        "Using Random Forest, with max_depth set at 4, and n_estimators at 16, the score of accuracy (using test dataset) is 0.80. This is already above the required score of 0.75 and beats the Decision Tree model built previously.\n",
        "\n",
        "The model is also used back to predict the train dataset. The score of accuracy for each dataset looks like this:\n",
        "\n",
        "1. Train dataset: 0.805\n",
        "\n",
        "2. Validation dataset: 0.815\n",
        "\n",
        "3. Test dataset: 0.801\n",
        "\n",
        "It seems that the model is not overfitting nor underfitting because the score differences are very slim.\n",
        "\n",
        "In the next step, Logistic Regression will be used to see if it produces even better score."
      ]
    },
    {
      "cell_type": "markdown",
      "metadata": {
        "id": "SXvZT5S6gHZZ"
      },
      "source": [
        "## Logistic Regression"
      ]
    },
    {
      "cell_type": "code",
      "execution_count": null,
      "metadata": {
        "colab": {
          "base_uri": "https://localhost:8080/"
        },
        "id": "71arKe45gHZb",
        "outputId": "95f5618e-9b36-43b7-e6f9-612963adbfe2"
      },
      "outputs": [
        {
          "output_type": "stream",
          "name": "stdout",
          "text": [
            "Best Penalty: l1\n",
            "Best C: 1.6681005372000592\n"
          ]
        },
        {
          "output_type": "execute_result",
          "data": {
            "text/plain": [
              "0.7406639004149378"
            ]
          },
          "metadata": {},
          "execution_count": 34
        }
      ],
      "source": [
        "#List Hyperparameters to test\n",
        "penalty = ['l1', 'l2']\n",
        "C = np.logspace(-2,2,10)\n",
        "hyperparameters = dict(penalty=penalty, C=C)\n",
        "\n",
        "#create model with grid search\n",
        "logreg = LogisticRegression(random_state=123, solver='liblinear')\n",
        "clf = GridSearchCV(logreg, hyperparameters, cv=10)\n",
        "\n",
        "# train model\n",
        "logreg = clf.fit(x_train, y_train)\n",
        "print('Best Penalty:', logreg.best_estimator_.get_params()['penalty'])\n",
        "print('Best C:', logreg.best_estimator_.get_params()['C'])\n",
        "\n",
        "# validate model\n",
        "logreg.score(x_val, y_val)"
      ]
    },
    {
      "cell_type": "code",
      "execution_count": null,
      "metadata": {
        "colab": {
          "base_uri": "https://localhost:8080/"
        },
        "id": "3PeAoaOtgHZc",
        "outputId": "31269e74-6d15-4d07-d6a7-66bea074ff1f"
      },
      "outputs": [
        {
          "output_type": "execute_result",
          "data": {
            "text/plain": [
              "0.7360248447204969"
            ]
          },
          "metadata": {},
          "execution_count": 35
        }
      ],
      "source": [
        "logreg_final = LogisticRegression(random_state=123, solver='liblinear', penalty='l1', C= 3.593813663804626)\n",
        "logreg_final.fit(x_train, y_train)\n",
        "logreg_final.score(x_test, y_test)"
      ]
    },
    {
      "cell_type": "code",
      "execution_count": null,
      "metadata": {
        "colab": {
          "base_uri": "https://localhost:8080/"
        },
        "id": "_zt-mwMKgHZe",
        "outputId": "d6126623-c677-45d5-fc27-0ab5e885db6c"
      },
      "outputs": [
        {
          "output_type": "execute_result",
          "data": {
            "text/plain": [
              "0.7481327800829876"
            ]
          },
          "metadata": {},
          "execution_count": 36
        }
      ],
      "source": [
        "logreg_final.score(x_train, y_train)"
      ]
    },
    {
      "cell_type": "markdown",
      "metadata": {
        "id": "SPSBVX7VgHZe"
      },
      "source": [
        "### Interim Conclusion\n",
        "\n",
        "Grid search is used to cross validate the best combination of hyperparameters. This helps in quickly tune the model.\n",
        "Using Logistic Regression, with penalty set as l1, and C at 3.593813663804626, the score of accuracy (using test dataset) is 0.74. This is below the required score of 0.75.\n",
        "\n",
        "The model is also used back to predict the train dataset. The score of accuracy for each dataset looks like this:\n",
        "\n",
        "    Train dataset: 0.748\n",
        "\n",
        "    Validation dataset: 0.740\n",
        "\n",
        "    Test dataset: 0.736\n",
        "\n",
        "It seems that the model is not overfitting nor underfitting because the score differences are very slim.\n",
        "\n",
        "However it is not good enough to be the model as the performance does not meet the minimum requirement."
      ]
    },
    {
      "cell_type": "markdown",
      "metadata": {
        "id": "H9_gQitIgHZg"
      },
      "source": [
        "## Sanity Check\n",
        "\n",
        "By now, it is known already that the best model for this case is the one with Random Forest algorithm.\n",
        "\n",
        "In this step, sanity check will be done by observing the precision and recall level. This is because tha dataset already imbalance on the target, with 70% is non Ultra (or Surf). The accuracy score of around 80% already exceeds this no-Ultra portion. But given that the dataset is imbalanced, it would be important to check also the precision and recall score of each target (ultra and non-ultra)."
      ]
    },
    {
      "cell_type": "code",
      "execution_count": null,
      "metadata": {
        "scrolled": true,
        "colab": {
          "base_uri": "https://localhost:8080/"
        },
        "id": "ABPUtjOxgHZh",
        "outputId": "7d650736-5de2-426f-b6c7-f62cbad62095"
      },
      "outputs": [
        {
          "output_type": "stream",
          "name": "stdout",
          "text": [
            "              precision    recall  f1-score   support\n",
            "\n",
            "           0       0.82      0.95      0.88       336\n",
            "           1       0.81      0.51      0.62       146\n",
            "\n",
            "    accuracy                           0.82       482\n",
            "   macro avg       0.81      0.73      0.75       482\n",
            "weighted avg       0.82      0.82      0.80       482\n",
            "\n"
          ]
        }
      ],
      "source": [
        "# classification report using validation dataset\n",
        "y_pred_val = rfc_final.predict(x_val)\n",
        "print(classification_report(y_val, y_pred_val))"
      ]
    },
    {
      "cell_type": "code",
      "execution_count": null,
      "metadata": {
        "colab": {
          "base_uri": "https://localhost:8080/"
        },
        "id": "IKs7UQ0JgHZh",
        "outputId": "6cbb7064-bd6b-41ad-9ab8-c57dd37edfd0"
      },
      "outputs": [
        {
          "output_type": "stream",
          "name": "stdout",
          "text": [
            "              precision    recall  f1-score   support\n",
            "\n",
            "           0       0.80      0.95      0.87       222\n",
            "           1       0.81      0.47      0.59       100\n",
            "\n",
            "    accuracy                           0.80       322\n",
            "   macro avg       0.80      0.71      0.73       322\n",
            "weighted avg       0.80      0.80      0.78       322\n",
            "\n"
          ]
        }
      ],
      "source": [
        "# classification report using test dataset\n",
        "y_pred_test = rfc_final.predict(x_test)\n",
        "print(classification_report(y_test, y_pred_test))"
      ]
    },
    {
      "cell_type": "code",
      "execution_count": null,
      "metadata": {
        "scrolled": true,
        "colab": {
          "base_uri": "https://localhost:8080/"
        },
        "id": "PmVp_QtkgHZi",
        "outputId": "f3ee0b8c-c16c-4052-df67-78116aacedd3"
      },
      "outputs": [
        {
          "output_type": "stream",
          "name": "stdout",
          "text": [
            "              precision    recall  f1-score   support\n",
            "\n",
            "           0       0.81      0.95      0.87      1671\n",
            "           1       0.80      0.49      0.61       739\n",
            "\n",
            "    accuracy                           0.81      2410\n",
            "   macro avg       0.80      0.72      0.74      2410\n",
            "weighted avg       0.80      0.81      0.79      2410\n",
            "\n"
          ]
        }
      ],
      "source": [
        "# classification report using train dataset\n",
        "y_pred_train = rfc_final.predict(x_train)\n",
        "print(classification_report(y_train, y_pred_train))"
      ]
    },
    {
      "cell_type": "markdown",
      "metadata": {
        "id": "BXjs08GrgHZj"
      },
      "source": [
        "From the sanity check, it is known that precision of predicting each target is above 80%. \n",
        "\n",
        "While recall of target 0 is above 90%, the recall of target 1 it is only around 50%. \n",
        "\n",
        "This means that although the model is good in predicting precisely, only around half of target 1 the model will be able to recall."
      ]
    },
    {
      "cell_type": "markdown",
      "metadata": {
        "id": "ryX47rISgHZj"
      },
      "source": [
        "# Final Conclusions\n",
        "\n",
        "Three algorithms are tested to find the best model:\n",
        "\n",
        "1. Decision Tree\n",
        "\n",
        "2. Random Forest\n",
        "\n",
        "3. Logistic Regression\n",
        "\n",
        "Hyperparameters are tried to find the best combination of hyperparameter in each algorithm. \n",
        "\n",
        "The best performing model is Random Forest, with estimators set at 16 and depth at 4.\n",
        "\n",
        "The score of accuracy is above 0.80. \n",
        "\n",
        "Given that the dataset is imbalanced, precision and recall validation metrics are then used in sanity check. This is because for an imbalanced dataset, it is easy to get a high accuracy score by simply classifying all observations as the majority class.\n",
        "\n",
        "This already exceeds the minimum accuracy of 0.75. Hence the model can be used to meet the Megaline's end of predicting the best subscription plan for its customers.\n"
      ]
    }
  ],
  "metadata": {
    "kernelspec": {
      "display_name": "Python 3 (ipykernel)",
      "language": "python",
      "name": "python3"
    },
    "language_info": {
      "codemirror_mode": {
        "name": "ipython",
        "version": 3
      },
      "file_extension": ".py",
      "mimetype": "text/x-python",
      "name": "python",
      "nbconvert_exporter": "python",
      "pygments_lexer": "ipython3",
      "version": "3.9.5"
    },
    "toc": {
      "base_numbering": 1,
      "nav_menu": {},
      "number_sections": true,
      "sideBar": true,
      "skip_h1_title": true,
      "title_cell": "Table of Contents",
      "title_sidebar": "Contents",
      "toc_cell": false,
      "toc_position": {
        "height": "calc(100% - 180px)",
        "left": "10px",
        "top": "150px",
        "width": "165px"
      },
      "toc_section_display": true,
      "toc_window_display": true
    },
    "colab": {
      "provenance": [],
      "toc_visible": true
    }
  },
  "nbformat": 4,
  "nbformat_minor": 0
}