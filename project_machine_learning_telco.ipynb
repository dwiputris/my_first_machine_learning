{
  "cells": [
    {
      "cell_type": "markdown",
      "metadata": {
        "id": "a1tRE8exgHYl"
      },
      "source": [
        "# Time to Upgrade?\n",
        "\n",
        "A mobile telephone operator, Megaline, is looking to appeal their customers for its more premium plan subscription. \n",
        "\n",
        "The company wishes to build a model that predicts the potential of its existing customers to upgrade to the premium plan.\n",
        "\n",
        "Given a dataset of its current subscribers' monthly average use of calls, messages, and internet data, a machine learning is built to classify if a user will subscribe for Ultra or not.\n",
        "\n",
        "The model should have as high of accuracy level as possible, with minimum level of  0.75.\n",
        "\n",
        "The observed data in the dataset are:\n",
        "    \n",
        "1. сalls — number of call\n",
        "\n",
        "2. minutes — total duration of calls in minute\n",
        "\n",
        "3. messages — number of text message\n",
        "\n",
        "4. mb_used — internet traffic usage in MB\n",
        "\n",
        "5. is_ultra — the current subscription plan (Ultra - 1, Surf - 0)\n",
        "\n",
        "The project is started by observing the datasets, and some exploratory data analysis. It is then continued by experimenting with the three algorithms. The experiments incorporate some tuning of hyper-parameters in order to find a combination of ones that result in the best validation metric, that is accuracy score.\n",
        "\n",
        "It will then be closed with sanity check, using other validation metrices than accuracy score."
      ]
    },
    {
      "cell_type": "markdown",
      "metadata": {
        "id": "kXtxwImkgHYt"
      },
      "source": [
        "## Data Observation"
      ]
    },
    {
      "cell_type": "code",
      "execution_count": 59,
      "metadata": {
        "id": "7IE8abVRgHYu",
        "colab": {
          "base_uri": "https://localhost:8080/"
        },
        "outputId": "942e99bf-a427-4bcf-a8a7-70ca6673b902"
      },
      "outputs": [
        {
          "output_type": "stream",
          "name": "stdout",
          "text": [
            "Looking in indexes: https://pypi.org/simple, https://us-python.pkg.dev/colab-wheels/public/simple/\n",
            "Requirement already satisfied: treeinterpreter in /usr/local/lib/python3.8/dist-packages (0.2.3)\n"
          ]
        }
      ],
      "source": [
        "# import libraries\n",
        "import pandas as pd, numpy as np\n",
        "import matplotlib.pyplot as plt\n",
        "import seaborn as sns\n",
        "from sklearn.model_selection import train_test_split, GridSearchCV\n",
        "from sklearn.tree import DecisionTreeClassifier, plot_tree\n",
        "from sklearn.ensemble import RandomForestClassifier\n",
        "from sklearn.linear_model import LogisticRegression\n",
        "from sklearn.metrics import classification_report\n",
        "from sklearn.preprocessing import StandardScaler\n",
        "!pip install treeinterpreter\n",
        "from treeinterpreter import treeinterpreter as ti\n",
        "import warnings\n",
        "warnings.filterwarnings('ignore')"
      ]
    },
    {
      "cell_type": "code",
      "source": [
        "# Connect to google drive\n",
        "from google.colab import drive\n",
        "drive.mount('/content/gdrive')"
      ],
      "metadata": {
        "colab": {
          "base_uri": "https://localhost:8080/"
        },
        "id": "LS8wf1AxhkaX",
        "outputId": "03fcbe47-d796-4ca3-91e5-f323a5e3c5d1"
      },
      "execution_count": 60,
      "outputs": [
        {
          "output_type": "stream",
          "name": "stdout",
          "text": [
            "Drive already mounted at /content/gdrive; to attempt to forcibly remount, call drive.mount(\"/content/gdrive\", force_remount=True).\n"
          ]
        }
      ]
    },
    {
      "cell_type": "code",
      "execution_count": 61,
      "metadata": {
        "colab": {
          "base_uri": "https://localhost:8080/",
          "height": 206
        },
        "id": "NBOTe5qogHYw",
        "outputId": "a0d87ae3-d052-46c7-f2b0-da4fb29ae045"
      },
      "outputs": [
        {
          "output_type": "execute_result",
          "data": {
            "text/plain": [
              "   calls  minutes  messages   mb_used  is_ultra\n",
              "0   40.0   311.90      83.0  19915.42         0\n",
              "1   85.0   516.75      56.0  22696.96         0\n",
              "2   77.0   467.66      86.0  21060.45         0\n",
              "3  106.0   745.53      81.0   8437.39         1\n",
              "4   66.0   418.74       1.0  14502.75         0"
            ],
            "text/html": [
              "\n",
              "  <div id=\"df-bcbf3d2d-574b-4cfd-be22-dba79cbf0e14\">\n",
              "    <div class=\"colab-df-container\">\n",
              "      <div>\n",
              "<style scoped>\n",
              "    .dataframe tbody tr th:only-of-type {\n",
              "        vertical-align: middle;\n",
              "    }\n",
              "\n",
              "    .dataframe tbody tr th {\n",
              "        vertical-align: top;\n",
              "    }\n",
              "\n",
              "    .dataframe thead th {\n",
              "        text-align: right;\n",
              "    }\n",
              "</style>\n",
              "<table border=\"1\" class=\"dataframe\">\n",
              "  <thead>\n",
              "    <tr style=\"text-align: right;\">\n",
              "      <th></th>\n",
              "      <th>calls</th>\n",
              "      <th>minutes</th>\n",
              "      <th>messages</th>\n",
              "      <th>mb_used</th>\n",
              "      <th>is_ultra</th>\n",
              "    </tr>\n",
              "  </thead>\n",
              "  <tbody>\n",
              "    <tr>\n",
              "      <th>0</th>\n",
              "      <td>40.0</td>\n",
              "      <td>311.90</td>\n",
              "      <td>83.0</td>\n",
              "      <td>19915.42</td>\n",
              "      <td>0</td>\n",
              "    </tr>\n",
              "    <tr>\n",
              "      <th>1</th>\n",
              "      <td>85.0</td>\n",
              "      <td>516.75</td>\n",
              "      <td>56.0</td>\n",
              "      <td>22696.96</td>\n",
              "      <td>0</td>\n",
              "    </tr>\n",
              "    <tr>\n",
              "      <th>2</th>\n",
              "      <td>77.0</td>\n",
              "      <td>467.66</td>\n",
              "      <td>86.0</td>\n",
              "      <td>21060.45</td>\n",
              "      <td>0</td>\n",
              "    </tr>\n",
              "    <tr>\n",
              "      <th>3</th>\n",
              "      <td>106.0</td>\n",
              "      <td>745.53</td>\n",
              "      <td>81.0</td>\n",
              "      <td>8437.39</td>\n",
              "      <td>1</td>\n",
              "    </tr>\n",
              "    <tr>\n",
              "      <th>4</th>\n",
              "      <td>66.0</td>\n",
              "      <td>418.74</td>\n",
              "      <td>1.0</td>\n",
              "      <td>14502.75</td>\n",
              "      <td>0</td>\n",
              "    </tr>\n",
              "  </tbody>\n",
              "</table>\n",
              "</div>\n",
              "      <button class=\"colab-df-convert\" onclick=\"convertToInteractive('df-bcbf3d2d-574b-4cfd-be22-dba79cbf0e14')\"\n",
              "              title=\"Convert this dataframe to an interactive table.\"\n",
              "              style=\"display:none;\">\n",
              "        \n",
              "  <svg xmlns=\"http://www.w3.org/2000/svg\" height=\"24px\"viewBox=\"0 0 24 24\"\n",
              "       width=\"24px\">\n",
              "    <path d=\"M0 0h24v24H0V0z\" fill=\"none\"/>\n",
              "    <path d=\"M18.56 5.44l.94 2.06.94-2.06 2.06-.94-2.06-.94-.94-2.06-.94 2.06-2.06.94zm-11 1L8.5 8.5l.94-2.06 2.06-.94-2.06-.94L8.5 2.5l-.94 2.06-2.06.94zm10 10l.94 2.06.94-2.06 2.06-.94-2.06-.94-.94-2.06-.94 2.06-2.06.94z\"/><path d=\"M17.41 7.96l-1.37-1.37c-.4-.4-.92-.59-1.43-.59-.52 0-1.04.2-1.43.59L10.3 9.45l-7.72 7.72c-.78.78-.78 2.05 0 2.83L4 21.41c.39.39.9.59 1.41.59.51 0 1.02-.2 1.41-.59l7.78-7.78 2.81-2.81c.8-.78.8-2.07 0-2.86zM5.41 20L4 18.59l7.72-7.72 1.47 1.35L5.41 20z\"/>\n",
              "  </svg>\n",
              "      </button>\n",
              "      \n",
              "  <style>\n",
              "    .colab-df-container {\n",
              "      display:flex;\n",
              "      flex-wrap:wrap;\n",
              "      gap: 12px;\n",
              "    }\n",
              "\n",
              "    .colab-df-convert {\n",
              "      background-color: #E8F0FE;\n",
              "      border: none;\n",
              "      border-radius: 50%;\n",
              "      cursor: pointer;\n",
              "      display: none;\n",
              "      fill: #1967D2;\n",
              "      height: 32px;\n",
              "      padding: 0 0 0 0;\n",
              "      width: 32px;\n",
              "    }\n",
              "\n",
              "    .colab-df-convert:hover {\n",
              "      background-color: #E2EBFA;\n",
              "      box-shadow: 0px 1px 2px rgba(60, 64, 67, 0.3), 0px 1px 3px 1px rgba(60, 64, 67, 0.15);\n",
              "      fill: #174EA6;\n",
              "    }\n",
              "\n",
              "    [theme=dark] .colab-df-convert {\n",
              "      background-color: #3B4455;\n",
              "      fill: #D2E3FC;\n",
              "    }\n",
              "\n",
              "    [theme=dark] .colab-df-convert:hover {\n",
              "      background-color: #434B5C;\n",
              "      box-shadow: 0px 1px 3px 1px rgba(0, 0, 0, 0.15);\n",
              "      filter: drop-shadow(0px 1px 2px rgba(0, 0, 0, 0.3));\n",
              "      fill: #FFFFFF;\n",
              "    }\n",
              "  </style>\n",
              "\n",
              "      <script>\n",
              "        const buttonEl =\n",
              "          document.querySelector('#df-bcbf3d2d-574b-4cfd-be22-dba79cbf0e14 button.colab-df-convert');\n",
              "        buttonEl.style.display =\n",
              "          google.colab.kernel.accessAllowed ? 'block' : 'none';\n",
              "\n",
              "        async function convertToInteractive(key) {\n",
              "          const element = document.querySelector('#df-bcbf3d2d-574b-4cfd-be22-dba79cbf0e14');\n",
              "          const dataTable =\n",
              "            await google.colab.kernel.invokeFunction('convertToInteractive',\n",
              "                                                     [key], {});\n",
              "          if (!dataTable) return;\n",
              "\n",
              "          const docLinkHtml = 'Like what you see? Visit the ' +\n",
              "            '<a target=\"_blank\" href=https://colab.research.google.com/notebooks/data_table.ipynb>data table notebook</a>'\n",
              "            + ' to learn more about interactive tables.';\n",
              "          element.innerHTML = '';\n",
              "          dataTable['output_type'] = 'display_data';\n",
              "          await google.colab.output.renderOutput(dataTable, element);\n",
              "          const docLink = document.createElement('div');\n",
              "          docLink.innerHTML = docLinkHtml;\n",
              "          element.appendChild(docLink);\n",
              "        }\n",
              "      </script>\n",
              "    </div>\n",
              "  </div>\n",
              "  "
            ]
          },
          "metadata": {},
          "execution_count": 61
        }
      ],
      "source": [
        "# load dataset and samples of observed data\n",
        "df = pd.read_csv('/content/gdrive/MyDrive/data_projects/users_behavior.csv')\n",
        "df.head()"
      ]
    },
    {
      "cell_type": "code",
      "execution_count": 62,
      "metadata": {
        "colab": {
          "base_uri": "https://localhost:8080/"
        },
        "id": "3cPNMMK5gHY1",
        "outputId": "7f7a8c2e-a96c-4868-e1e7-90edd72aa7a1"
      },
      "outputs": [
        {
          "output_type": "stream",
          "name": "stdout",
          "text": [
            "<class 'pandas.core.frame.DataFrame'>\n",
            "RangeIndex: 3214 entries, 0 to 3213\n",
            "Data columns (total 5 columns):\n",
            " #   Column    Non-Null Count  Dtype  \n",
            "---  ------    --------------  -----  \n",
            " 0   calls     3214 non-null   float64\n",
            " 1   minutes   3214 non-null   float64\n",
            " 2   messages  3214 non-null   float64\n",
            " 3   mb_used   3214 non-null   float64\n",
            " 4   is_ultra  3214 non-null   int64  \n",
            "dtypes: float64(4), int64(1)\n",
            "memory usage: 125.7 KB\n"
          ]
        }
      ],
      "source": [
        "# load general info\n",
        "df.info()"
      ]
    },
    {
      "cell_type": "code",
      "execution_count": 63,
      "metadata": {
        "colab": {
          "base_uri": "https://localhost:8080/",
          "height": 300
        },
        "id": "Zc7sViLJgHY2",
        "outputId": "fead741e-e164-468b-86c9-fade6f3cd83a"
      },
      "outputs": [
        {
          "output_type": "execute_result",
          "data": {
            "text/plain": [
              "             calls      minutes     messages       mb_used     is_ultra\n",
              "count  3214.000000  3214.000000  3214.000000   3214.000000  3214.000000\n",
              "mean     63.038892   438.208787    38.281269  17207.673836     0.306472\n",
              "std      33.236368   234.569872    36.148326   7570.968246     0.461100\n",
              "min       0.000000     0.000000     0.000000      0.000000     0.000000\n",
              "25%      40.000000   274.575000     9.000000  12491.902500     0.000000\n",
              "50%      62.000000   430.600000    30.000000  16943.235000     0.000000\n",
              "75%      82.000000   571.927500    57.000000  21424.700000     1.000000\n",
              "max     244.000000  1632.060000   224.000000  49745.730000     1.000000"
            ],
            "text/html": [
              "\n",
              "  <div id=\"df-1e70b21f-ea48-4b34-8a8c-8c5e14d7e82a\">\n",
              "    <div class=\"colab-df-container\">\n",
              "      <div>\n",
              "<style scoped>\n",
              "    .dataframe tbody tr th:only-of-type {\n",
              "        vertical-align: middle;\n",
              "    }\n",
              "\n",
              "    .dataframe tbody tr th {\n",
              "        vertical-align: top;\n",
              "    }\n",
              "\n",
              "    .dataframe thead th {\n",
              "        text-align: right;\n",
              "    }\n",
              "</style>\n",
              "<table border=\"1\" class=\"dataframe\">\n",
              "  <thead>\n",
              "    <tr style=\"text-align: right;\">\n",
              "      <th></th>\n",
              "      <th>calls</th>\n",
              "      <th>minutes</th>\n",
              "      <th>messages</th>\n",
              "      <th>mb_used</th>\n",
              "      <th>is_ultra</th>\n",
              "    </tr>\n",
              "  </thead>\n",
              "  <tbody>\n",
              "    <tr>\n",
              "      <th>count</th>\n",
              "      <td>3214.000000</td>\n",
              "      <td>3214.000000</td>\n",
              "      <td>3214.000000</td>\n",
              "      <td>3214.000000</td>\n",
              "      <td>3214.000000</td>\n",
              "    </tr>\n",
              "    <tr>\n",
              "      <th>mean</th>\n",
              "      <td>63.038892</td>\n",
              "      <td>438.208787</td>\n",
              "      <td>38.281269</td>\n",
              "      <td>17207.673836</td>\n",
              "      <td>0.306472</td>\n",
              "    </tr>\n",
              "    <tr>\n",
              "      <th>std</th>\n",
              "      <td>33.236368</td>\n",
              "      <td>234.569872</td>\n",
              "      <td>36.148326</td>\n",
              "      <td>7570.968246</td>\n",
              "      <td>0.461100</td>\n",
              "    </tr>\n",
              "    <tr>\n",
              "      <th>min</th>\n",
              "      <td>0.000000</td>\n",
              "      <td>0.000000</td>\n",
              "      <td>0.000000</td>\n",
              "      <td>0.000000</td>\n",
              "      <td>0.000000</td>\n",
              "    </tr>\n",
              "    <tr>\n",
              "      <th>25%</th>\n",
              "      <td>40.000000</td>\n",
              "      <td>274.575000</td>\n",
              "      <td>9.000000</td>\n",
              "      <td>12491.902500</td>\n",
              "      <td>0.000000</td>\n",
              "    </tr>\n",
              "    <tr>\n",
              "      <th>50%</th>\n",
              "      <td>62.000000</td>\n",
              "      <td>430.600000</td>\n",
              "      <td>30.000000</td>\n",
              "      <td>16943.235000</td>\n",
              "      <td>0.000000</td>\n",
              "    </tr>\n",
              "    <tr>\n",
              "      <th>75%</th>\n",
              "      <td>82.000000</td>\n",
              "      <td>571.927500</td>\n",
              "      <td>57.000000</td>\n",
              "      <td>21424.700000</td>\n",
              "      <td>1.000000</td>\n",
              "    </tr>\n",
              "    <tr>\n",
              "      <th>max</th>\n",
              "      <td>244.000000</td>\n",
              "      <td>1632.060000</td>\n",
              "      <td>224.000000</td>\n",
              "      <td>49745.730000</td>\n",
              "      <td>1.000000</td>\n",
              "    </tr>\n",
              "  </tbody>\n",
              "</table>\n",
              "</div>\n",
              "      <button class=\"colab-df-convert\" onclick=\"convertToInteractive('df-1e70b21f-ea48-4b34-8a8c-8c5e14d7e82a')\"\n",
              "              title=\"Convert this dataframe to an interactive table.\"\n",
              "              style=\"display:none;\">\n",
              "        \n",
              "  <svg xmlns=\"http://www.w3.org/2000/svg\" height=\"24px\"viewBox=\"0 0 24 24\"\n",
              "       width=\"24px\">\n",
              "    <path d=\"M0 0h24v24H0V0z\" fill=\"none\"/>\n",
              "    <path d=\"M18.56 5.44l.94 2.06.94-2.06 2.06-.94-2.06-.94-.94-2.06-.94 2.06-2.06.94zm-11 1L8.5 8.5l.94-2.06 2.06-.94-2.06-.94L8.5 2.5l-.94 2.06-2.06.94zm10 10l.94 2.06.94-2.06 2.06-.94-2.06-.94-.94-2.06-.94 2.06-2.06.94z\"/><path d=\"M17.41 7.96l-1.37-1.37c-.4-.4-.92-.59-1.43-.59-.52 0-1.04.2-1.43.59L10.3 9.45l-7.72 7.72c-.78.78-.78 2.05 0 2.83L4 21.41c.39.39.9.59 1.41.59.51 0 1.02-.2 1.41-.59l7.78-7.78 2.81-2.81c.8-.78.8-2.07 0-2.86zM5.41 20L4 18.59l7.72-7.72 1.47 1.35L5.41 20z\"/>\n",
              "  </svg>\n",
              "      </button>\n",
              "      \n",
              "  <style>\n",
              "    .colab-df-container {\n",
              "      display:flex;\n",
              "      flex-wrap:wrap;\n",
              "      gap: 12px;\n",
              "    }\n",
              "\n",
              "    .colab-df-convert {\n",
              "      background-color: #E8F0FE;\n",
              "      border: none;\n",
              "      border-radius: 50%;\n",
              "      cursor: pointer;\n",
              "      display: none;\n",
              "      fill: #1967D2;\n",
              "      height: 32px;\n",
              "      padding: 0 0 0 0;\n",
              "      width: 32px;\n",
              "    }\n",
              "\n",
              "    .colab-df-convert:hover {\n",
              "      background-color: #E2EBFA;\n",
              "      box-shadow: 0px 1px 2px rgba(60, 64, 67, 0.3), 0px 1px 3px 1px rgba(60, 64, 67, 0.15);\n",
              "      fill: #174EA6;\n",
              "    }\n",
              "\n",
              "    [theme=dark] .colab-df-convert {\n",
              "      background-color: #3B4455;\n",
              "      fill: #D2E3FC;\n",
              "    }\n",
              "\n",
              "    [theme=dark] .colab-df-convert:hover {\n",
              "      background-color: #434B5C;\n",
              "      box-shadow: 0px 1px 3px 1px rgba(0, 0, 0, 0.15);\n",
              "      filter: drop-shadow(0px 1px 2px rgba(0, 0, 0, 0.3));\n",
              "      fill: #FFFFFF;\n",
              "    }\n",
              "  </style>\n",
              "\n",
              "      <script>\n",
              "        const buttonEl =\n",
              "          document.querySelector('#df-1e70b21f-ea48-4b34-8a8c-8c5e14d7e82a button.colab-df-convert');\n",
              "        buttonEl.style.display =\n",
              "          google.colab.kernel.accessAllowed ? 'block' : 'none';\n",
              "\n",
              "        async function convertToInteractive(key) {\n",
              "          const element = document.querySelector('#df-1e70b21f-ea48-4b34-8a8c-8c5e14d7e82a');\n",
              "          const dataTable =\n",
              "            await google.colab.kernel.invokeFunction('convertToInteractive',\n",
              "                                                     [key], {});\n",
              "          if (!dataTable) return;\n",
              "\n",
              "          const docLinkHtml = 'Like what you see? Visit the ' +\n",
              "            '<a target=\"_blank\" href=https://colab.research.google.com/notebooks/data_table.ipynb>data table notebook</a>'\n",
              "            + ' to learn more about interactive tables.';\n",
              "          element.innerHTML = '';\n",
              "          dataTable['output_type'] = 'display_data';\n",
              "          await google.colab.output.renderOutput(dataTable, element);\n",
              "          const docLink = document.createElement('div');\n",
              "          docLink.innerHTML = docLinkHtml;\n",
              "          element.appendChild(docLink);\n",
              "        }\n",
              "      </script>\n",
              "    </div>\n",
              "  </div>\n",
              "  "
            ]
          },
          "metadata": {},
          "execution_count": 63
        }
      ],
      "source": [
        "# load statistical description\n",
        "df.describe()"
      ]
    },
    {
      "cell_type": "markdown",
      "metadata": {
        "id": "WRkBGTCUgHY4"
      },
      "source": [
        "## Exploratory Data Analysis"
      ]
    },
    {
      "cell_type": "code",
      "execution_count": 64,
      "metadata": {
        "scrolled": true,
        "colab": {
          "base_uri": "https://localhost:8080/",
          "height": 517
        },
        "id": "YNkWol-GgHY5",
        "outputId": "e4042205-54d4-4c30-add3-25dc52eadf1a"
      },
      "outputs": [
        {
          "output_type": "display_data",
          "data": {
            "text/plain": [
              "<Figure size 864x576 with 4 Axes>"
            ],
            "image/png": "[encoded data removed]"
          },
          "metadata": {
            "needs_background": "light"
          }
        }
      ],
      "source": [
        "# load boxplot\n",
        "columns = ['calls', 'minutes', 'messages', 'mb_used']\n",
        "plt.subplots(figsize = (12, 8))\n",
        "for i, column in enumerate(columns):\n",
        "    sns.boxplot(data=df, x=column, ax = plt.subplot(2, 2, i + 1))\n",
        "    plt.xticks(rotation = 45)"
      ]
    },
    {
      "cell_type": "code",
      "execution_count": 65,
      "metadata": {
        "colab": {
          "base_uri": "https://localhost:8080/",
          "height": 298
        },
        "id": "FZ4D20QMgHY6",
        "outputId": "f5e4c74c-4727-4305-ef74-4f4e5b5512bd"
      },
      "outputs": [
        {
          "output_type": "execute_result",
          "data": {
            "text/plain": [
              "<matplotlib.axes._subplots.AxesSubplot at 0x7f26ed7ab340>"
            ]
          },
          "metadata": {},
          "execution_count": 65
        },
        {
          "output_type": "display_data",
          "data": {
            "text/plain": [
              "<Figure size 432x288 with 1 Axes>"
            ],
            "image/png": "[encoded data removed]"
          },
          "metadata": {
            "needs_background": "light"
          }
        }
      ],
      "source": [
        "# Univariate anlysis target\n",
        "sns.countplot(df['is_ultra'])"
      ]
    },
    {
      "cell_type": "code",
      "execution_count": 66,
      "metadata": {
        "colab": {
          "base_uri": "https://localhost:8080/",
          "height": 245
        },
        "id": "y3OZKMkUgHY8",
        "outputId": "ca737a65-44ed-44ab-e034-e431d26f1d70"
      },
      "outputs": [
        {
          "output_type": "execute_result",
          "data": {
            "text/plain": [
              "<matplotlib.axes._subplots.AxesSubplot at 0x7f26ed8d8760>"
            ]
          },
          "metadata": {},
          "execution_count": 66
        },
        {
          "output_type": "display_data",
          "data": {
            "text/plain": [
              "<Figure size 1440x288 with 2 Axes>"
            ],
            "image/png": "[encoded data removed]"
          },
          "metadata": {
            "needs_background": "light"
          }
        }
      ],
      "source": [
        "# Univariate analysis minutes.\n",
        "f = plt.figure(figsize=(20,4))\n",
        "f.add_subplot(1,2,1)\n",
        "sns.distplot(df['minutes'])\n",
        "\n",
        "f.add_subplot(1,2,2)\n",
        "sns.boxplot(df['minutes'])"
      ]
    },
    {
      "cell_type": "code",
      "execution_count": 67,
      "metadata": {
        "scrolled": true,
        "colab": {
          "base_uri": "https://localhost:8080/",
          "height": 247
        },
        "id": "5VOU9PjNgHY9",
        "outputId": "fe1a17d5-1ff9-4e04-bbff-7b7eb9254a4f"
      },
      "outputs": [
        {
          "output_type": "execute_result",
          "data": {
            "text/plain": [
              "<matplotlib.axes._subplots.AxesSubplot at 0x7f26ed82e0d0>"
            ]
          },
          "metadata": {},
          "execution_count": 67
        },
        {
          "output_type": "display_data",
          "data": {
            "text/plain": [
              "<Figure size 1440x288 with 2 Axes>"
            ],
            "image/png": "[encoded data removed]"
          },
          "metadata": {
            "needs_background": "light"
          }
        }
      ],
      "source": [
        "# Univariate analysis messages.\n",
        "f = plt.figure(figsize=(20,4))\n",
        "\n",
        "f.add_subplot(1,2,1)\n",
        "sns.distplot(df['messages'])\n",
        "\n",
        "f.add_subplot(1,2,2)\n",
        "sns.boxplot(df['messages'])"
      ]
    },
    {
      "cell_type": "code",
      "execution_count": 68,
      "metadata": {
        "scrolled": true,
        "colab": {
          "base_uri": "https://localhost:8080/",
          "height": 261
        },
        "id": "JcgxMkG-gHY-",
        "outputId": "4315ca7a-6827-4ec8-9fc5-609fc6921502"
      },
      "outputs": [
        {
          "output_type": "execute_result",
          "data": {
            "text/plain": [
              "<matplotlib.axes._subplots.AxesSubplot at 0x7f26ed9b6490>"
            ]
          },
          "metadata": {},
          "execution_count": 68
        },
        {
          "output_type": "display_data",
          "data": {
            "text/plain": [
              "<Figure size 1440x288 with 2 Axes>"
            ],
            "image/png": "[encoded data removed]"
          },
          "metadata": {
            "needs_background": "light"
          }
        }
      ],
      "source": [
        "# Univariate analysis mb_used.\n",
        "f = plt.figure(figsize=(20,4))\n",
        "\n",
        "f.add_subplot(1,2,1)\n",
        "sns.distplot(df['mb_used'])\n",
        "\n",
        "f.add_subplot(1,2,2)\n",
        "sns.boxplot(df['mb_used'])"
      ]
    },
    {
      "cell_type": "markdown",
      "metadata": {
        "id": "7kt_iBLDgHZA"
      },
      "source": [
        "From data observation and exploratory data analysis, important informations are gained, that then inform whether there is a need to improve or manipulate the dataset.\n",
        "\n",
        "Size of the dataset is 3,214 rows and 5 columns. \n",
        "\n",
        "Features columns are: calls, minutes, messages, and mb_used. \n",
        "They are all float data, as expected. \n",
        "\n",
        "While target column is is_ultra. It is boolean type of 0 and 1.\n",
        "\n",
        "There is no missing values.\n",
        "\n",
        "There is no negative values, as expected.\n",
        "\n",
        "There are many outliers on all 4 features.\n",
        "\n",
        "For minutes, data is centered on around 400 minutes.\n",
        "\n",
        "For messages, data is centered on around 0 message.\n",
        "\n",
        "For mb_used, data is centered on around 17,000 mb.\n",
        "\n",
        "It is known that plan Surf includes maximum 500 minutes of call and 15GB(15,360 mb) of internet data.\n",
        "\n",
        "While dataset is a little imbalance on proportion of the target, with around 70% of the observed data are Surf plan.\n",
        "\n",
        "This means that although majority of users make use of call duration less than the Surf's monthly allotment, internet use is above the plan's allotment.\n",
        "\n",
        "This also means that most of the subsribers bear additional cost for excess of internet data use.\n",
        "\n",
        "Knowing that the dataset has high variance, there might be certain tuning of hyperparameters that needed in order to make the best model out of it. \n",
        "\n",
        "In the next step, the model will be start to built.\n",
        "\n",
        "This is a supervised learning as the target is known, that is to determine if observed data will result in Ultra package or not. And so for that reason, obviously Classifier, instead of Regression, algorithm will be used to build the needed model.\n",
        "\n",
        "Three algorithms will be used to make a model, and then tested to see which one results in the best validation metric given certain hyperparameters:\n",
        "\n",
        "1. Decision Tree Classifier\n",
        "\n",
        "2. Random Forest\n",
        "\n",
        "3. Logistic Regression"
      ]
    },
    {
      "cell_type": "markdown",
      "metadata": {
        "id": "Gu1JJVABgHZC"
      },
      "source": [
        "## Data Splitting"
      ]
    },
    {
      "cell_type": "code",
      "execution_count": 69,
      "metadata": {
        "id": "y5_zJgvngHZD"
      },
      "outputs": [],
      "source": [
        "# Divide train-validation-test the dataset\n",
        "df_train, df_val_test = train_test_split(df, test_size = 0.25, random_state =123)\n",
        "df_val, df_test = train_test_split(df_val_test, test_size = 0.4, random_state =123)"
      ]
    },
    {
      "cell_type": "code",
      "execution_count": 70,
      "metadata": {
        "scrolled": true,
        "colab": {
          "base_uri": "https://localhost:8080/"
        },
        "id": "6GZqQO-IgHZE",
        "outputId": "f4be7282-9f19-467d-a19d-2e6992769220"
      },
      "outputs": [
        {
          "output_type": "execute_result",
          "data": {
            "text/plain": [
              "(2410, 5)"
            ]
          },
          "metadata": {},
          "execution_count": 70
        }
      ],
      "source": [
        "# Check the size of train dataset\n",
        "df_train.shape"
      ]
    },
    {
      "cell_type": "code",
      "execution_count": 71,
      "metadata": {
        "colab": {
          "base_uri": "https://localhost:8080/"
        },
        "id": "CooEBP_jgHZF",
        "outputId": "5bafdca5-eca3-40f6-b9a6-4903eaba41ba"
      },
      "outputs": [
        {
          "output_type": "execute_result",
          "data": {
            "text/plain": [
              "(482, 5)"
            ]
          },
          "metadata": {},
          "execution_count": 71
        }
      ],
      "source": [
        "# Check the size of validation dataset\n",
        "df_val.shape"
      ]
    },
    {
      "cell_type": "code",
      "execution_count": 72,
      "metadata": {
        "colab": {
          "base_uri": "https://localhost:8080/"
        },
        "id": "9nOiYuhggHZG",
        "outputId": "a150ade0-51ec-4011-8104-f2a24a75d1b6"
      },
      "outputs": [
        {
          "output_type": "execute_result",
          "data": {
            "text/plain": [
              "(322, 5)"
            ]
          },
          "metadata": {},
          "execution_count": 72
        }
      ],
      "source": [
        "# Check the size of test dataset\n",
        "df_test.shape"
      ]
    },
    {
      "cell_type": "code",
      "execution_count": 73,
      "metadata": {
        "id": "BZGb0W4VgHZH"
      },
      "outputs": [],
      "source": [
        "# slice the datasets each for independent and dependent variables\n",
        "x_train = df_train.drop(['is_ultra'], axis=1)\n",
        "y_train = df_train['is_ultra']\n",
        "x_val = df_val.drop(['is_ultra'], axis=1)\n",
        "y_val = df_val['is_ultra']\n",
        "x_test = df_test.drop(['is_ultra'], axis=1)\n",
        "y_test = df_test['is_ultra']"
      ]
    },
    {
      "cell_type": "code",
      "source": [
        "# standard scale all features columns\n",
        "scaler = StandardScaler()\n",
        "scaler.fit(x_train[columns])\n",
        "x_train[columns] = scaler.transform(x_train[columns])\n",
        "x_val[columns] = scaler.transform(x_val[columns])\n",
        "x_test[columns] = scaler.transform(x_test[columns])"
      ],
      "metadata": {
        "id": "yn9aybynPRTg"
      },
      "execution_count": 74,
      "outputs": []
    },
    {
      "cell_type": "markdown",
      "metadata": {
        "id": "JxM_3faqgHZI"
      },
      "source": [
        "Data has been split, 75%, 15% and 10% for training, validation and testing, respectively.\n",
        "\n",
        "StandarScaler is applied to all datasets to normalize features data."
      ]
    },
    {
      "cell_type": "markdown",
      "metadata": {
        "id": "cMrTGgGqgHZJ"
      },
      "source": [
        "## Decision Tree Classifier"
      ]
    },
    {
      "cell_type": "markdown",
      "metadata": {
        "id": "cg0KP2L5gHZK"
      },
      "source": [
        "A model using algorithm of decision tree classifier will be built. The best max depth hyperparameter will be found by looping the model from range 1 to 11."
      ]
    },
    {
      "cell_type": "code",
      "execution_count": 75,
      "metadata": {
        "colab": {
          "base_uri": "https://localhost:8080/"
        },
        "id": "0yB1B_UcgHZL",
        "outputId": "bac4179c-23a3-4fca-ae95-8e2b0ad769d1"
      },
      "outputs": [
        {
          "output_type": "stream",
          "name": "stdout",
          "text": [
            "max_depth = 1 : 0.7406639004149378\n",
            "max_depth = 2 : 0.7883817427385892\n",
            "max_depth = 3 : 0.7966804979253111\n",
            "max_depth = 4 : 0.7966804979253111\n",
            "max_depth = 5 : 0.7780082987551867\n",
            "max_depth = 6 : 0.7966804979253111\n",
            "max_depth = 7 : 0.8049792531120332\n",
            "max_depth = 8 : 0.7966804979253111\n",
            "max_depth = 9 : 0.8029045643153527\n",
            "max_depth = 10 : 0.8070539419087137\n",
            "max_depth = 11 : 0.7883817427385892\n"
          ]
        }
      ],
      "source": [
        "# Build model and loop for given max_depth hyperparameter with highest score of accuracy\n",
        "for depth in range(1,12):\n",
        "    d_tree= DecisionTreeClassifier(random_state=123, max_depth=depth)\n",
        "    d_tree.fit(x_train, y_train)\n",
        "    score_val = d_tree.score(x_val, y_val)\n",
        "    print(\"max_depth =\", depth, \": \", end='')\n",
        "    print(score_val)"
      ]
    },
    {
      "cell_type": "markdown",
      "metadata": {
        "id": "SODbyR4hgHZM"
      },
      "source": [
        "From the looping, it appears that, using validation dataset, as max_depth increases the accuracy increases as well, until max depth of 4, and the accuracy decreases. Hence for the final model the hyperparameter will be set at 3."
      ]
    },
    {
      "cell_type": "code",
      "execution_count": 76,
      "metadata": {
        "colab": {
          "base_uri": "https://localhost:8080/"
        },
        "id": "_h8LK_kYgHZM",
        "outputId": "01db66e1-2e35-40df-e10f-e5e6067e4d9d"
      },
      "outputs": [
        {
          "output_type": "execute_result",
          "data": {
            "text/plain": [
              "0.7950310559006211"
            ]
          },
          "metadata": {},
          "execution_count": 76
        }
      ],
      "source": [
        "# Build final model with max depth set at 10\n",
        "d_tree_final= DecisionTreeClassifier(random_state=123, max_depth=3)\n",
        "d_tree_final.fit(x_train, y_train)\n",
        "score_test = d_tree_final.score(x_test, y_test)\n",
        "score_test"
      ]
    },
    {
      "cell_type": "code",
      "execution_count": 77,
      "metadata": {
        "colab": {
          "base_uri": "https://localhost:8080/"
        },
        "id": "18ykBB-ZgHZN",
        "outputId": "8a876081-f9ac-4d3a-827d-a4d82bd4a27c"
      },
      "outputs": [
        {
          "output_type": "execute_result",
          "data": {
            "text/plain": [
              "0.7979253112033196"
            ]
          },
          "metadata": {},
          "execution_count": 77
        }
      ],
      "source": [
        "# check the model's score of accuracy if dataset used is train dataset\n",
        "d_tree_final.score(x_train, y_train)"
      ]
    },
    {
      "cell_type": "code",
      "source": [
        "# visualize decision tree\n",
        "plt.figure(figsize=(20,10))\n",
        "plot_tree(d_tree_final, feature_names = x_train.columns, class_names=True, proportion=True, filled=True, rounded=True, precision=2)\n",
        "plt.show()"
      ],
      "metadata": {
        "colab": {
          "base_uri": "https://localhost:8080/",
          "height": 489
        },
        "id": "NMyYcLv5niRV",
        "outputId": "aa11ff4a-e782-4aa0-bdbb-13e17b3a9d64"
      },
      "execution_count": 78,
      "outputs": [
        {
          "output_type": "display_data",
          "data": {
            "text/plain": [
              "<Figure size 1440x720 with 1 Axes>"
            ],
            "image/png": "[encoded data removed]"
          },
          "metadata": {
            "needs_background": "light"
          }
        }
      ]
    },
    {
      "cell_type": "markdown",
      "metadata": {
        "id": "k-fYLUNAgHZP"
      },
      "source": [
        "### Interim Conclusion\n",
        "\n",
        "Using Decision Tree Classifier, with max_depth set at optimal of 4, the score of accuracy, using test dataset, is 0.79. This is already above the required score of 0.75.\n",
        "\n",
        "The decision tree model is visualized. It shows that minutes on call is the feature that branches the root node. The next immediate internal nodes then are branched on internet data used and number of calls.\n",
        "\n",
        "The model is also used back to predict the train dataset. The score of accuracy for each dataset looks like this:\n",
        "\n",
        "1. Train dataset: 0.798\n",
        "\n",
        "2. Validation dataset: 0.797\n",
        "\n",
        "3. Test dataset: 0.795\n",
        "\n",
        "It seems that the model is not overfitting nor underfitting because the score differences are very slim across three datasets.\n",
        "\n",
        "\n",
        "In the next step, Random Forest algorithm will be used to see if it produces even higher accuracy."
      ]
    },
    {
      "cell_type": "markdown",
      "metadata": {
        "id": "LhvOdQNigHZR"
      },
      "source": [
        "## Random Forest"
      ]
    },
    {
      "cell_type": "markdown",
      "metadata": {
        "id": "BOX71zZNgHZR"
      },
      "source": [
        "In this step Random Forest Classifier will be used as the algorithm to build the model.\n",
        "\n",
        "Given that in Decision Tree model, the max_depth of 4 performs well enough, the same depth will be set for the Random Forest.\n",
        "\n",
        "The best estimators will then be looked for."
      ]
    },
    {
      "cell_type": "code",
      "execution_count": 79,
      "metadata": {
        "colab": {
          "base_uri": "https://localhost:8080/"
        },
        "id": "itgqt3p0gHZS",
        "outputId": "382bf931-fc46-4551-ab45-fcaf1437a672"
      },
      "outputs": [
        {
          "output_type": "stream",
          "name": "stdout",
          "text": [
            "n_estimators = 1 : 0.7966804979253111\n",
            "n_estimators = 2 : 0.7925311203319502\n",
            "n_estimators = 3 : 0.7966804979253111\n",
            "n_estimators = 4 : 0.7717842323651453\n",
            "n_estimators = 5 : 0.7987551867219918\n",
            "n_estimators = 6 : 0.7946058091286307\n",
            "n_estimators = 7 : 0.7946058091286307\n",
            "n_estimators = 8 : 0.7925311203319502\n",
            "n_estimators = 9 : 0.7925311203319502\n",
            "n_estimators = 10 : 0.7925311203319502\n",
            "n_estimators = 11 : 0.7925311203319502\n",
            "n_estimators = 12 : 0.7925311203319502\n",
            "n_estimators = 13 : 0.7925311203319502\n",
            "n_estimators = 14 : 0.7904564315352697\n",
            "n_estimators = 15 : 0.7925311203319502\n",
            "n_estimators = 16 : 0.7925311203319502\n",
            "n_estimators = 17 : 0.7925311203319502\n",
            "n_estimators = 18 : 0.7925311203319502\n",
            "n_estimators = 19 : 0.7925311203319502\n",
            "n_estimators = 20 : 0.7925311203319502\n",
            "n_estimators = 21 : 0.7925311203319502\n",
            "n_estimators = 22 : 0.7925311203319502\n",
            "n_estimators = 23 : 0.7925311203319502\n",
            "n_estimators = 24 : 0.7925311203319502\n",
            "n_estimators = 25 : 0.7925311203319502\n",
            "n_estimators = 26 : 0.7925311203319502\n",
            "n_estimators = 27 : 0.7925311203319502\n",
            "n_estimators = 28 : 0.7925311203319502\n",
            "n_estimators = 29 : 0.7925311203319502\n",
            "n_estimators = 30 : 0.7925311203319502\n",
            "n_estimators = 31 : 0.7925311203319502\n",
            "n_estimators = 32 : 0.7925311203319502\n",
            "n_estimators = 33 : 0.7925311203319502\n",
            "n_estimators = 34 : 0.7925311203319502\n",
            "n_estimators = 35 : 0.7925311203319502\n",
            "n_estimators = 36 : 0.7925311203319502\n",
            "n_estimators = 37 : 0.7925311203319502\n",
            "n_estimators = 38 : 0.7925311203319502\n",
            "n_estimators = 39 : 0.7925311203319502\n",
            "n_estimators = 40 : 0.7925311203319502\n"
          ]
        }
      ],
      "source": [
        "# train model and look for optimal n_estimators hyperparameter\n",
        "best_score = 0\n",
        "best_est = 0\n",
        "for est in range(1, 41):\n",
        "    rfc = RandomForestClassifier(random_state=123, n_estimators=est, max_depth=3)\n",
        "    rfc.fit(x_train, y_train)\n",
        "    score_val_rfc = rfc.score(x_val, y_val)\n",
        "    print(\"n_estimators =\", est, \": \", end='')\n",
        "    print(score_val_rfc)"
      ]
    },
    {
      "cell_type": "markdown",
      "metadata": {
        "id": "xHftM0qbgHZV"
      },
      "source": [
        "It appears that n_estimators of 16 is good already. Going for more estimators does not actually produce better scores. \n",
        "\n",
        "Hence for the final model using Random Forest, hyperparameters will be set as below:\n",
        "\n",
        "n_estimator= 16\n",
        "\n",
        "max_depth= 4"
      ]
    },
    {
      "cell_type": "code",
      "execution_count": 80,
      "metadata": {
        "colab": {
          "base_uri": "https://localhost:8080/"
        },
        "id": "zh-lqHTygHZV",
        "outputId": "18914053-1da0-49f8-c058-82d03e4fe959"
      },
      "outputs": [
        {
          "output_type": "execute_result",
          "data": {
            "text/plain": [
              "0.8153526970954357"
            ]
          },
          "metadata": {},
          "execution_count": 80
        }
      ],
      "source": [
        "# build best model, with max_depth set at 4, and n_estimators set at optimal of 16\n",
        "rfc_final = RandomForestClassifier(random_state=123, n_estimators=16, max_depth=4)\n",
        "rfc_final.fit(x_train,y_train)\n",
        "rfc_final.score(x_val, y_val)"
      ]
    },
    {
      "cell_type": "code",
      "execution_count": 81,
      "metadata": {
        "colab": {
          "base_uri": "https://localhost:8080/"
        },
        "id": "GN-NsgvigHZW",
        "outputId": "934adb7f-ae64-41dc-ea02-53cdf5289aa4"
      },
      "outputs": [
        {
          "output_type": "execute_result",
          "data": {
            "text/plain": [
              "0.8012422360248447"
            ]
          },
          "metadata": {},
          "execution_count": 81
        }
      ],
      "source": [
        "# check the model's score of accuracy if dataset used is test dataset\n",
        "rfc_final.score(x_test, y_test)"
      ]
    },
    {
      "cell_type": "code",
      "execution_count": 82,
      "metadata": {
        "colab": {
          "base_uri": "https://localhost:8080/"
        },
        "id": "yEer-3epgHZX",
        "outputId": "7b991495-eb88-45be-8935-6d3fd13f491a"
      },
      "outputs": [
        {
          "output_type": "execute_result",
          "data": {
            "text/plain": [
              "0.8053941908713693"
            ]
          },
          "metadata": {},
          "execution_count": 82
        }
      ],
      "source": [
        "# check the model's score of accuracy if dataset used is train dataset\n",
        "rfc_final.score(x_train, y_train)"
      ]
    },
    {
      "cell_type": "code",
      "source": [
        "# check each feature's importance\n",
        "y = rfc_final.feature_importances_\n",
        "\n",
        "fig, ax = plt.subplots() \n",
        "width = 0.4 # the width of the bars \n",
        "ind = np.arange(len(y)) # the x locations for the groups\n",
        "ax.barh(ind, y, width, color='green')\n",
        "ax.set_yticks(ind+width/10)\n",
        "ax.set_yticklabels(columns, minor=False)\n",
        "plt.title('Feature Importance in Random Forest Classifier')\n",
        "plt.xlabel('Relative Importance')\n",
        "plt.ylabel('Feature') \n",
        "plt.figure(figsize=(5,5))\n",
        "fig.set_size_inches(6.5, 4.5, forward=True)"
      ],
      "metadata": {
        "colab": {
          "base_uri": "https://localhost:8080/",
          "height": 341
        },
        "id": "bvFWSR2hwfz7",
        "outputId": "a8aff4d4-5e8b-4733-d798-c8c3ff11d026"
      },
      "execution_count": 83,
      "outputs": [
        {
          "output_type": "display_data",
          "data": {
            "text/plain": [
              "<Figure size 468x324 with 1 Axes>"
            ],
            "image/png": "[encoded data removed]"
          },
          "metadata": {
            "needs_background": "light"
          }
        },
        {
          "output_type": "display_data",
          "data": {
            "text/plain": [
              "<Figure size 360x360 with 0 Axes>"
            ]
          },
          "metadata": {}
        }
      ]
    },
    {
      "cell_type": "code",
      "source": [
        "# load contribution of figures plot\n",
        "prediction, bias, contributions = ti.predict(rfc_final, x_train)\n",
        "N = 5 # no of entries in plot , 4 ---> features & 1 ---- class label\n",
        "surf = []\n",
        "ultra = []\n",
        "for j in range(2):\n",
        "    list_ =  [surf, ultra]\n",
        "    for i in range(4):\n",
        "        val = contributions[0,i,j]\n",
        "        list_[j].append(val)\n",
        "surf.append(prediction[0,0]/4)\n",
        "ultra.append(prediction[0,1]/4)\n",
        "fig, ax = plt.subplots()\n",
        "ind = np.arange(N)   \n",
        "width = 0.15        \n",
        "p1 = ax.bar(ind, surf, width, color='red', bottom=0)\n",
        "p2 = ax.bar(ind+width, ultra, width, color='green', bottom=0)\n",
        "xlabels = ['calls', 'minutes', 'messages', 'mb_used', 'class_label']\n",
        "ax.set_title('Contribution of all feature')\n",
        "ax.set_xticks(ind + width)\n",
        "ax.set_xticklabels(xlabels, rotation = 90)\n",
        "ax.legend((p1[0], p2[0]), ('surf', 'ultra') , bbox_to_anchor=(1.04,1), loc=\"upper left\")\n",
        "ax.autoscale_view()\n",
        "plt.show()"
      ],
      "metadata": {
        "colab": {
          "base_uri": "https://localhost:8080/",
          "height": 326
        },
        "id": "vp35zO07Bi4q",
        "outputId": "c1bc2eec-2750-4cae-e767-402da9eb2da9"
      },
      "execution_count": 84,
      "outputs": [
        {
          "output_type": "display_data",
          "data": {
            "text/plain": [
              "<Figure size 432x288 with 1 Axes>"
            ],
            "image/png": "[encoded data removed]"
          },
          "metadata": {
            "needs_background": "light"
          }
        }
      ]
    },
    {
      "cell_type": "markdown",
      "metadata": {
        "id": "lEdv1mNygHZY"
      },
      "source": [
        "### Interim Conclusion\n",
        "\n",
        "Using Random Forest, with max_depth set at 4, and n_estimators at 16, the score of accuracy (using test dataset) is 0.80. This is already above the required score of 0.75 and beats the Decision Tree model built previously.\n",
        "\n",
        "From the Feature Importance and Contribution of Features plot, it is known that mb_used is the most significant feature in our Random Forest model. While number of calls comes second.\n",
        "\n",
        "The model is also used back to predict the train dataset. The score of accuracy for each dataset looks like this:\n",
        "\n",
        "1. Train dataset: 0.805\n",
        "\n",
        "2. Validation dataset: 0.815\n",
        "\n",
        "3. Test dataset: 0.801\n",
        "\n",
        "It seems that the model is not overfitting nor underfitting because the score differences are very slim across three datasets.\n",
        "\n",
        "In the next step, Logistic Regression will be used to see if it produces even better score."
      ]
    },
    {
      "cell_type": "markdown",
      "metadata": {
        "id": "SXvZT5S6gHZZ"
      },
      "source": [
        "## Logistic Regression"
      ]
    },
    {
      "cell_type": "code",
      "execution_count": 85,
      "metadata": {
        "id": "71arKe45gHZb",
        "colab": {
          "base_uri": "https://localhost:8080/"
        },
        "outputId": "a6e74850-75c2-4024-ee48-b70a2c21a58e"
      },
      "outputs": [
        {
          "output_type": "stream",
          "name": "stdout",
          "text": [
            "Best Penalty: l2\n",
            "Best C: 0.01\n"
          ]
        },
        {
          "output_type": "execute_result",
          "data": {
            "text/plain": [
              "0.7468879668049793"
            ]
          },
          "metadata": {},
          "execution_count": 85
        }
      ],
      "source": [
        "#List Hyperparameters to test\n",
        "penalty = ['l1', 'l2']\n",
        "C = np.logspace(-2,2,10)\n",
        "hyperparameters = dict(penalty=penalty, C=C)\n",
        "\n",
        "#create model with grid search\n",
        "logreg = LogisticRegression(random_state=123, solver='liblinear')\n",
        "clf = GridSearchCV(logreg, hyperparameters, cv=10)\n",
        "\n",
        "# train model\n",
        "logreg = clf.fit(x_train, y_train)\n",
        "print('Best Penalty:', logreg.best_estimator_.get_params()['penalty'])\n",
        "print('Best C:', logreg.best_estimator_.get_params()['C'])\n",
        "\n",
        "# validate model\n",
        "logreg.score(x_val, y_val)"
      ]
    },
    {
      "cell_type": "code",
      "execution_count": 86,
      "metadata": {
        "id": "3PeAoaOtgHZc",
        "colab": {
          "base_uri": "https://localhost:8080/"
        },
        "outputId": "07d4410a-73bd-481e-8c55-24b813acb8a4"
      },
      "outputs": [
        {
          "output_type": "execute_result",
          "data": {
            "text/plain": [
              "0.7391304347826086"
            ]
          },
          "metadata": {},
          "execution_count": 86
        }
      ],
      "source": [
        "# Build final model with penalty set as 'l2' and C at 0.01\n",
        "logreg_final = LogisticRegression(random_state=123, solver='liblinear', penalty='l2', C= 0.01)\n",
        "logreg_final.fit(x_train, y_train)\n",
        "logreg_final.score(x_test, y_test)"
      ]
    },
    {
      "cell_type": "code",
      "execution_count": 87,
      "metadata": {
        "id": "_zt-mwMKgHZe",
        "colab": {
          "base_uri": "https://localhost:8080/"
        },
        "outputId": "3fb34a26-08bd-47ba-ba58-6ddf1200547f"
      },
      "outputs": [
        {
          "output_type": "execute_result",
          "data": {
            "text/plain": [
              "0.7514522821576763"
            ]
          },
          "metadata": {},
          "execution_count": 87
        }
      ],
      "source": [
        "# check the model's score of accuracy if dataset used is train dataset\n",
        "logreg_final.score(x_train, y_train)"
      ]
    },
    {
      "cell_type": "code",
      "source": [
        "# check the logistic regression model's coefficient\n",
        "pd.DataFrame(logreg_final.coef_, columns=columns)"
      ],
      "metadata": {
        "id": "Lkun2DO53qpP",
        "colab": {
          "base_uri": "https://localhost:8080/",
          "height": 81
        },
        "outputId": "3be3c776-75bc-4a68-ea4d-bc5b5448fe68"
      },
      "execution_count": 88,
      "outputs": [
        {
          "output_type": "execute_result",
          "data": {
            "text/plain": [
              "      calls   minutes  messages   mb_used\n",
              "0  0.150936  0.173181   0.31403  0.228348"
            ],
            "text/html": [
              "\n",
              "  <div id=\"df-9a67d8b6-39ed-441e-9d17-be39370f44e4\">\n",
              "    <div class=\"colab-df-container\">\n",
              "      <div>\n",
              "<style scoped>\n",
              "    .dataframe tbody tr th:only-of-type {\n",
              "        vertical-align: middle;\n",
              "    }\n",
              "\n",
              "    .dataframe tbody tr th {\n",
              "        vertical-align: top;\n",
              "    }\n",
              "\n",
              "    .dataframe thead th {\n",
              "        text-align: right;\n",
              "    }\n",
              "</style>\n",
              "<table border=\"1\" class=\"dataframe\">\n",
              "  <thead>\n",
              "    <tr style=\"text-align: right;\">\n",
              "      <th></th>\n",
              "      <th>calls</th>\n",
              "      <th>minutes</th>\n",
              "      <th>messages</th>\n",
              "      <th>mb_used</th>\n",
              "    </tr>\n",
              "  </thead>\n",
              "  <tbody>\n",
              "    <tr>\n",
              "      <th>0</th>\n",
              "      <td>0.150936</td>\n",
              "      <td>0.173181</td>\n",
              "      <td>0.31403</td>\n",
              "      <td>0.228348</td>\n",
              "    </tr>\n",
              "  </tbody>\n",
              "</table>\n",
              "</div>\n",
              "      <button class=\"colab-df-convert\" onclick=\"convertToInteractive('df-9a67d8b6-39ed-441e-9d17-be39370f44e4')\"\n",
              "              title=\"Convert this dataframe to an interactive table.\"\n",
              "              style=\"display:none;\">\n",
              "        \n",
              "  <svg xmlns=\"http://www.w3.org/2000/svg\" height=\"24px\"viewBox=\"0 0 24 24\"\n",
              "       width=\"24px\">\n",
              "    <path d=\"M0 0h24v24H0V0z\" fill=\"none\"/>\n",
              "    <path d=\"M18.56 5.44l.94 2.06.94-2.06 2.06-.94-2.06-.94-.94-2.06-.94 2.06-2.06.94zm-11 1L8.5 8.5l.94-2.06 2.06-.94-2.06-.94L8.5 2.5l-.94 2.06-2.06.94zm10 10l.94 2.06.94-2.06 2.06-.94-2.06-.94-.94-2.06-.94 2.06-2.06.94z\"/><path d=\"M17.41 7.96l-1.37-1.37c-.4-.4-.92-.59-1.43-.59-.52 0-1.04.2-1.43.59L10.3 9.45l-7.72 7.72c-.78.78-.78 2.05 0 2.83L4 21.41c.39.39.9.59 1.41.59.51 0 1.02-.2 1.41-.59l7.78-7.78 2.81-2.81c.8-.78.8-2.07 0-2.86zM5.41 20L4 18.59l7.72-7.72 1.47 1.35L5.41 20z\"/>\n",
              "  </svg>\n",
              "      </button>\n",
              "      \n",
              "  <style>\n",
              "    .colab-df-container {\n",
              "      display:flex;\n",
              "      flex-wrap:wrap;\n",
              "      gap: 12px;\n",
              "    }\n",
              "\n",
              "    .colab-df-convert {\n",
              "      background-color: #E8F0FE;\n",
              "      border: none;\n",
              "      border-radius: 50%;\n",
              "      cursor: pointer;\n",
              "      display: none;\n",
              "      fill: #1967D2;\n",
              "      height: 32px;\n",
              "      padding: 0 0 0 0;\n",
              "      width: 32px;\n",
              "    }\n",
              "\n",
              "    .colab-df-convert:hover {\n",
              "      background-color: #E2EBFA;\n",
              "      box-shadow: 0px 1px 2px rgba(60, 64, 67, 0.3), 0px 1px 3px 1px rgba(60, 64, 67, 0.15);\n",
              "      fill: #174EA6;\n",
              "    }\n",
              "\n",
              "    [theme=dark] .colab-df-convert {\n",
              "      background-color: #3B4455;\n",
              "      fill: #D2E3FC;\n",
              "    }\n",
              "\n",
              "    [theme=dark] .colab-df-convert:hover {\n",
              "      background-color: #434B5C;\n",
              "      box-shadow: 0px 1px 3px 1px rgba(0, 0, 0, 0.15);\n",
              "      filter: drop-shadow(0px 1px 2px rgba(0, 0, 0, 0.3));\n",
              "      fill: #FFFFFF;\n",
              "    }\n",
              "  </style>\n",
              "\n",
              "      <script>\n",
              "        const buttonEl =\n",
              "          document.querySelector('#df-9a67d8b6-39ed-441e-9d17-be39370f44e4 button.colab-df-convert');\n",
              "        buttonEl.style.display =\n",
              "          google.colab.kernel.accessAllowed ? 'block' : 'none';\n",
              "\n",
              "        async function convertToInteractive(key) {\n",
              "          const element = document.querySelector('#df-9a67d8b6-39ed-441e-9d17-be39370f44e4');\n",
              "          const dataTable =\n",
              "            await google.colab.kernel.invokeFunction('convertToInteractive',\n",
              "                                                     [key], {});\n",
              "          if (!dataTable) return;\n",
              "\n",
              "          const docLinkHtml = 'Like what you see? Visit the ' +\n",
              "            '<a target=\"_blank\" href=https://colab.research.google.com/notebooks/data_table.ipynb>data table notebook</a>'\n",
              "            + ' to learn more about interactive tables.';\n",
              "          element.innerHTML = '';\n",
              "          dataTable['output_type'] = 'display_data';\n",
              "          await google.colab.output.renderOutput(dataTable, element);\n",
              "          const docLink = document.createElement('div');\n",
              "          docLink.innerHTML = docLinkHtml;\n",
              "          element.appendChild(docLink);\n",
              "        }\n",
              "      </script>\n",
              "    </div>\n",
              "  </div>\n",
              "  "
            ]
          },
          "metadata": {},
          "execution_count": 88
        }
      ]
    },
    {
      "cell_type": "markdown",
      "metadata": {
        "id": "SPSBVX7VgHZe"
      },
      "source": [
        "### Interim Conclusion\n",
        "\n",
        "Grid search is used to cross validate the best combination of hyperparameters. This helps in quickly tune the model.\n",
        "Using Logistic Regression, with penalty set as l1, and C at 3.593813663804626, the score of accuracy (using test dataset) is 0.74. This is below the required score of 0.75.\n",
        "\n",
        "From calling attribute coefficient at the logistic regression model, it is known that the most important feature in the model is number of messages, followed by internet data used.\n",
        "\n",
        "The model is also used back to predict the train dataset. The score of accuracy for each dataset looks like this:\n",
        "\n",
        "1. Train dataset: 0.751\n",
        "\n",
        "2. Validation dataset: 0.747\n",
        "\n",
        "3. Test dataset: 0.739\n",
        "\n",
        "It seems that the model is not overfitting nor underfitting because the score differences are very slim across three datasets.\n",
        "\n",
        "However it is not good enough to be the model as the performance does not meet the minimum requirement."
      ]
    },
    {
      "cell_type": "markdown",
      "metadata": {
        "id": "H9_gQitIgHZg"
      },
      "source": [
        "## Sanity Check\n",
        "\n",
        "By now, it is known already that the best model for this case is the one with Random Forest algorithm.\n",
        "\n",
        "In this step, sanity check will be done by observing the precision and recall level. This is because tha dataset already imbalance on the target, with 70% is non Ultra (or Surf). The accuracy score of around 80% already exceeds this no-Ultra portion. But given that the dataset is imbalanced, it would be important to check also the precision and recall score of each target (ultra and non-ultra)."
      ]
    },
    {
      "cell_type": "code",
      "execution_count": 89,
      "metadata": {
        "scrolled": true,
        "id": "ABPUtjOxgHZh",
        "colab": {
          "base_uri": "https://localhost:8080/"
        },
        "outputId": "c266288a-fd1b-4281-d549-53f29463b2f9"
      },
      "outputs": [
        {
          "output_type": "stream",
          "name": "stdout",
          "text": [
            "              precision    recall  f1-score   support\n",
            "\n",
            "           0       0.82      0.95      0.88       336\n",
            "           1       0.81      0.51      0.62       146\n",
            "\n",
            "    accuracy                           0.82       482\n",
            "   macro avg       0.81      0.73      0.75       482\n",
            "weighted avg       0.82      0.82      0.80       482\n",
            "\n"
          ]
        }
      ],
      "source": [
        "# classification report using validation dataset\n",
        "y_pred_val = rfc_final.predict(x_val)\n",
        "print(classification_report(y_val, y_pred_val))"
      ]
    },
    {
      "cell_type": "code",
      "execution_count": 90,
      "metadata": {
        "id": "IKs7UQ0JgHZh",
        "colab": {
          "base_uri": "https://localhost:8080/"
        },
        "outputId": "c02c181c-e729-43ea-85ba-213791b4227d"
      },
      "outputs": [
        {
          "output_type": "stream",
          "name": "stdout",
          "text": [
            "              precision    recall  f1-score   support\n",
            "\n",
            "           0       0.80      0.95      0.87       222\n",
            "           1       0.81      0.47      0.59       100\n",
            "\n",
            "    accuracy                           0.80       322\n",
            "   macro avg       0.80      0.71      0.73       322\n",
            "weighted avg       0.80      0.80      0.78       322\n",
            "\n"
          ]
        }
      ],
      "source": [
        "# classification report using test dataset\n",
        "y_pred_test = rfc_final.predict(x_test)\n",
        "print(classification_report(y_test, y_pred_test))"
      ]
    },
    {
      "cell_type": "code",
      "execution_count": 91,
      "metadata": {
        "scrolled": true,
        "id": "PmVp_QtkgHZi",
        "colab": {
          "base_uri": "https://localhost:8080/"
        },
        "outputId": "e3dbb7d6-edc8-46ad-ad8d-6438cee340f6"
      },
      "outputs": [
        {
          "output_type": "stream",
          "name": "stdout",
          "text": [
            "              precision    recall  f1-score   support\n",
            "\n",
            "           0       0.81      0.95      0.87      1671\n",
            "           1       0.80      0.49      0.61       739\n",
            "\n",
            "    accuracy                           0.81      2410\n",
            "   macro avg       0.80      0.72      0.74      2410\n",
            "weighted avg       0.80      0.81      0.79      2410\n",
            "\n"
          ]
        }
      ],
      "source": [
        "# classification report using train dataset\n",
        "y_pred_train = rfc_final.predict(x_train)\n",
        "print(classification_report(y_train, y_pred_train))"
      ]
    },
    {
      "cell_type": "markdown",
      "metadata": {
        "id": "BXjs08GrgHZj"
      },
      "source": [
        "From the sanity check, it is known that precision of predicting each target is above 80%. \n",
        "\n",
        "While recall of target 0 is above 90%, the recall of target 1 it is only around 50%. \n",
        "\n",
        "This means that although the model is good in predicting precisely, only around half of target 1 the model will be able to recall."
      ]
    },
    {
      "cell_type": "markdown",
      "metadata": {
        "id": "ryX47rISgHZj"
      },
      "source": [
        "# Final Conclusions\n",
        "\n",
        "Three algorithms are tested to find the best model:\n",
        "\n",
        "1. Decision Tree\n",
        "\n",
        "2. Random Forest\n",
        "\n",
        "3. Logistic Regression\n",
        "\n",
        "Hyperparameters are tried to find the best combination of hyperparameters in each algorithm. \n",
        "\n",
        "Given that the dataset is imbalanced, precision and recall validation metrics are then used in sanity check. This is because for an imbalanced dataset, it is easy to get a high accuracy score by simply classifying all observations as the majority class.\n",
        "\n",
        "The best performing model is Random Forest, with estimators set at 16 and depth at 4.\n",
        "\n",
        "The score of accuracy is above 0.80. \n",
        "\n",
        "This already exceeds the minimum accuracy of 0.75. Hence the model can be used to meet the Megaline's end of predicting the best subscription plan for its customers.\n"
      ]
    }
  ],
  "metadata": {
    "kernelspec": {
      "display_name": "Python 3 (ipykernel)",
      "language": "python",
      "name": "python3"
    },
    "language_info": {
      "codemirror_mode": {
        "name": "ipython",
        "version": 3
      },
      "file_extension": ".py",
      "mimetype": "text/x-python",
      "name": "python",
      "nbconvert_exporter": "python",
      "pygments_lexer": "ipython3",
      "version": "3.9.5"
    },
    "toc": {
      "base_numbering": 1,
      "nav_menu": {},
      "number_sections": true,
      "sideBar": true,
      "skip_h1_title": true,
      "title_cell": "Table of Contents",
      "title_sidebar": "Contents",
      "toc_cell": false,
      "toc_position": {
        "height": "calc(100% - 180px)",
        "left": "10px",
        "top": "150px",
        "width": "165px"
      },
      "toc_section_display": true,
      "toc_window_display": true
    },
    "colab": {
      "provenance": [],
      "toc_visible": true
    }
  },
  "nbformat": 4,
  "nbformat_minor": 0
}